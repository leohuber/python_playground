{
 "cells": [
  {
   "cell_type": "markdown",
   "metadata": {},
   "source": [
    "https://testdriven.io/tips/43480c4e-72db-4728-8afd-0b0f4f42d4f4/\n",
    "\n"
   ]
  },
  {
   "cell_type": "code",
   "execution_count": 39,
   "metadata": {},
   "outputs": [
    {
     "data": {
      "application/vnd.jupyter.widget-view+json": {
       "model_id": "c59f47e93d004c5892477c2784d3668b",
       "version_major": 2,
       "version_minor": 0
      },
      "text/plain": [
       "HTML(value='\\n<!DOCTYPE html PUBLIC \"-//W3C//DTD XHTML 1.0 Transitional//EN\"\\n          \"http://www.w3.org/TR/…"
      ]
     },
     "execution_count": 39,
     "metadata": {},
     "output_type": "execute_result"
    }
   ],
   "source": [
    "import difflib\n",
    "from pathlib import Path\n",
    "\n",
    "import ipywidgets as widgets\n",
    "\n",
    "# Read the contents of the files\n",
    "# Get the directory of the current script\n",
    "current_dir = Path().cwd()\n",
    "\n",
    "# Read the contents of the files\n",
    "text1_file = current_dir / \"text1.txt\"\n",
    "with text1_file.open() as file1:\n",
    "    text1 = file1.readlines()\n",
    "\n",
    "text2_file = current_dir / \"text2.txt\"\n",
    "with text2_file.open() as file2:\n",
    "    text2 = file2.readlines()\n",
    "\n",
    "html_diff = difflib.HtmlDiff().make_file(text1, text2)\n",
    "\n",
    "widgets.HTML(\n",
    "    value=html_diff,\n",
    "    placeholder=\"Some HTML\",\n",
    "    description=\"Some HTML\",\n",
    ")\n",
    "\n"
   ]
  },
  {
   "cell_type": "code",
   "execution_count": 40,
   "metadata": {},
   "outputs": [
    {
     "name": "stdout",
     "output_type": "stream",
     "text": [
      "  In einem kleinen Dorf, umgeben von dichten Wäldern und sanften Hügeln, lebte einst ein weiser alter Mann. \n",
      "  Er war bekannt für seine Geschichten und Weisheiten, die er den Kindern des Dorfes erzählte. \n",
      "  Jeden Abend versammelten sich die Dorfbewohner um das Lagerfeuer, um seinen Erzählungen zu lauschen. \n",
      "  Die Geschichten handelten von mutigen Helden, geheimnisvollen Kreaturen und fernen Ländern. \n",
      "  Die Kinder liebten es, sich die Abenteuer vorzustellen und träumten davon, eines Tages selbst Helden zu sein. \n",
      "  Der alte Mann hatte eine besondere Gabe, die Herzen der Menschen zu berühren und ihnen Hoffnung zu geben. \n",
      "  Seine Worte waren wie Balsam für die Seele und brachten Licht in die dunkelsten Stunden. \n",
      "  Eines Tages erzählte er die Geschichte eines jungen Mädchens, das sich auf eine Reise begab, um das Glück zu finden. \n",
      "  Sie durchquerte gefährliche Wälder, bestieg hohe Berge und überwand viele Hindernisse. \n",
      "  Am Ende ihrer Reise erkannte sie, dass das wahre Glück in den einfachen Dingen des Lebens lag. \n",
      "+ Das kleine Dorf blieb ein Ort des Friedens und der Harmonie, wo die Menschen einander halfen und füreinander da waren. \n",
      "  Die Dorfbewohner waren tief berührt von dieser Geschichte und begannen, die kleinen Freuden des Alltags mehr zu schätzen. \n",
      "  Der alte Mann lächelte zufrieden, denn er wusste, dass seine Geschichten einen Unterschied machten. \n",
      "  Er lehrte die Menschen, dass wahres Glück nicht in Reichtum oder Ruhm zu finden ist, sondern in Liebe und Freundschaft. \n",
      "  Die Kinder des Dorfes wuchsen heran und erzählten die Geschichten des alten Mannes ihren eigenen Kindern weiter. \n",
      "  So wurden die Weisheiten von Generation zu Generation weitergegeben und lebten in den Herzen der Menschen fort. \n",
      "  Das kleine Dorf blieb ein Ort des Friedens und der Harmonie, wo die Menschen einander halfen und füreinander da waren. \n",
      "  Die Geschichten des alten Mannes wurden zu Legenden, die noch lange nach seinem Tod erzählt wurden. \n",
      "  Sein Geist lebte in den Erzählungen weiter und inspirierte die Menschen, ein gutes und erfülltes Leben zu führen. \n",
      "  Die Dorfbewohner erinnerten sich immer an die Worte des alten Mannes und fanden Trost in seinen Geschichten. \n",
      "  Sie wussten, dass sie niemals allein waren, solange sie die Weisheiten des alten Mannes in ihren Herzen trugen. \n",
      "  Die Kinder spielten in den Wäldern und träumten von ihren eigenen Abenteuern, inspiriert von den Geschichten. \n",
      "  Die Erwachsenen arbeiteten hart, aber sie nahmen sich immer Zeit, um die kleinen Freuden des Lebens zu genießen. \n",
      "  Das Dorf blühte und gedieh, und die Menschen lebten in Harmonie mit der Natur und miteinander. \n",
      "  Die Geschichten des alten Mannes waren ein kostbarer Schatz, der das Dorf für immer bereicherte. \n",
      "- Und so lebte der Geist des alten Mannes weiter, in den Herzen und Geschichten der Menschen, die ihn liebten.\n",
      "?                                               -\n",
      "+ Und so lebte der Geist des alten Mannes weiter in den Herzen und Geschichten der Menschen, die ihn liebten.\n",
      "\n"
     ]
    }
   ],
   "source": [
    "ndiff = difflib.ndiff(text1, text2)\n",
    "\n",
    "print(\"\".join(ndiff))"
   ]
  },
  {
   "cell_type": "code",
   "execution_count": 41,
   "metadata": {},
   "outputs": [
    {
     "name": "stdout",
     "output_type": "stream",
     "text": [
      "*** text1.txt\n",
      "--- text2.txt\n",
      "***************\n",
      "*** 8,13 ****\n",
      "--- 8,14 ----\n",
      "  Eines Tages erzählte er die Geschichte eines jungen Mädchens, das sich auf eine Reise begab, um das Glück zu finden. \n",
      "  Sie durchquerte gefährliche Wälder, bestieg hohe Berge und überwand viele Hindernisse. \n",
      "  Am Ende ihrer Reise erkannte sie, dass das wahre Glück in den einfachen Dingen des Lebens lag. \n",
      "+ Das kleine Dorf blieb ein Ort des Friedens und der Harmonie, wo die Menschen einander halfen und füreinander da waren. \n",
      "  Die Dorfbewohner waren tief berührt von dieser Geschichte und begannen, die kleinen Freuden des Alltags mehr zu schätzen. \n",
      "  Der alte Mann lächelte zufrieden, denn er wusste, dass seine Geschichten einen Unterschied machten. \n",
      "  Er lehrte die Menschen, dass wahres Glück nicht in Reichtum oder Ruhm zu finden ist, sondern in Liebe und Freundschaft. \n",
      "***************\n",
      "*** 22,25 ****\n",
      "  Die Erwachsenen arbeiteten hart, aber sie nahmen sich immer Zeit, um die kleinen Freuden des Lebens zu genießen. \n",
      "  Das Dorf blühte und gedieh, und die Menschen lebten in Harmonie mit der Natur und miteinander. \n",
      "  Die Geschichten des alten Mannes waren ein kostbarer Schatz, der das Dorf für immer bereicherte. \n",
      "! Und so lebte der Geist des alten Mannes weiter, in den Herzen und Geschichten der Menschen, die ihn liebten.\n",
      "--- 23,26 ----\n",
      "  Die Erwachsenen arbeiteten hart, aber sie nahmen sich immer Zeit, um die kleinen Freuden des Lebens zu genießen. \n",
      "  Das Dorf blühte und gedieh, und die Menschen lebten in Harmonie mit der Natur und miteinander. \n",
      "  Die Geschichten des alten Mannes waren ein kostbarer Schatz, der das Dorf für immer bereicherte. \n",
      "! Und so lebte der Geist des alten Mannes weiter in den Herzen und Geschichten der Menschen, die ihn liebten.\n",
      "\n"
     ]
    }
   ],
   "source": [
    "context_diff = difflib.context_diff(text1, text2, fromfile=\"text1.txt\", tofile=\"text2.txt\")\n",
    "\n",
    "print(\"\".join(context_diff))"
   ]
  },
  {
   "cell_type": "code",
   "execution_count": 42,
   "metadata": {},
   "outputs": [
    {
     "name": "stdout",
     "output_type": "stream",
     "text": [
      "  In einem kleinen Dorf, umgeben von dichten Wäldern und sanften Hügeln, lebte einst ein weiser alter Mann. \n",
      "  Er war bekannt für seine Geschichten und Weisheiten, die er den Kindern des Dorfes erzählte. \n",
      "  Jeden Abend versammelten sich die Dorfbewohner um das Lagerfeuer, um seinen Erzählungen zu lauschen. \n",
      "  Die Geschichten handelten von mutigen Helden, geheimnisvollen Kreaturen und fernen Ländern. \n",
      "  Die Kinder liebten es, sich die Abenteuer vorzustellen und träumten davon, eines Tages selbst Helden zu sein. \n",
      "  Der alte Mann hatte eine besondere Gabe, die Herzen der Menschen zu berühren und ihnen Hoffnung zu geben. \n",
      "  Seine Worte waren wie Balsam für die Seele und brachten Licht in die dunkelsten Stunden. \n",
      "  Eines Tages erzählte er die Geschichte eines jungen Mädchens, das sich auf eine Reise begab, um das Glück zu finden. \n",
      "  Sie durchquerte gefährliche Wälder, bestieg hohe Berge und überwand viele Hindernisse. \n",
      "  Am Ende ihrer Reise erkannte sie, dass das wahre Glück in den einfachen Dingen des Lebens lag. \n",
      "+ Das kleine Dorf blieb ein Ort des Friedens und der Harmonie, wo die Menschen einander halfen und füreinander da waren. \n",
      "  Die Dorfbewohner waren tief berührt von dieser Geschichte und begannen, die kleinen Freuden des Alltags mehr zu schätzen. \n",
      "  Der alte Mann lächelte zufrieden, denn er wusste, dass seine Geschichten einen Unterschied machten. \n",
      "  Er lehrte die Menschen, dass wahres Glück nicht in Reichtum oder Ruhm zu finden ist, sondern in Liebe und Freundschaft. \n",
      "  Die Kinder des Dorfes wuchsen heran und erzählten die Geschichten des alten Mannes ihren eigenen Kindern weiter. \n",
      "  So wurden die Weisheiten von Generation zu Generation weitergegeben und lebten in den Herzen der Menschen fort. \n",
      "  Das kleine Dorf blieb ein Ort des Friedens und der Harmonie, wo die Menschen einander halfen und füreinander da waren. \n",
      "  Die Geschichten des alten Mannes wurden zu Legenden, die noch lange nach seinem Tod erzählt wurden. \n",
      "  Sein Geist lebte in den Erzählungen weiter und inspirierte die Menschen, ein gutes und erfülltes Leben zu führen. \n",
      "  Die Dorfbewohner erinnerten sich immer an die Worte des alten Mannes und fanden Trost in seinen Geschichten. \n",
      "  Sie wussten, dass sie niemals allein waren, solange sie die Weisheiten des alten Mannes in ihren Herzen trugen. \n",
      "  Die Kinder spielten in den Wäldern und träumten von ihren eigenen Abenteuern, inspiriert von den Geschichten. \n",
      "  Die Erwachsenen arbeiteten hart, aber sie nahmen sich immer Zeit, um die kleinen Freuden des Lebens zu genießen. \n",
      "  Das Dorf blühte und gedieh, und die Menschen lebten in Harmonie mit der Natur und miteinander. \n",
      "  Die Geschichten des alten Mannes waren ein kostbarer Schatz, der das Dorf für immer bereicherte. \n",
      "- Und so lebte der Geist des alten Mannes weiter, in den Herzen und Geschichten der Menschen, die ihn liebten.\n",
      "?                                               -\n",
      "+ Und so lebte der Geist des alten Mannes weiter in den Herzen und Geschichten der Menschen, die ihn liebten.\n",
      "\n"
     ]
    }
   ],
   "source": [
    "d = difflib.Differ()\n",
    "diff = d.compare(text1, text2)\n",
    "print(\"\".join(diff))"
   ]
  },
  {
   "cell_type": "code",
   "execution_count": 43,
   "metadata": {},
   "outputs": [
    {
     "name": "stdout",
     "output_type": "stream",
     "text": [
      "--- text1.txt\n",
      "+++ text2.txt\n",
      "@@ -8,6 +8,7 @@\n",
      " Eines Tages erzählte er die Geschichte eines jungen Mädchens, das sich auf eine Reise begab, um das Glück zu finden. \n",
      " Sie durchquerte gefährliche Wälder, bestieg hohe Berge und überwand viele Hindernisse. \n",
      " Am Ende ihrer Reise erkannte sie, dass das wahre Glück in den einfachen Dingen des Lebens lag. \n",
      "+Das kleine Dorf blieb ein Ort des Friedens und der Harmonie, wo die Menschen einander halfen und füreinander da waren. \n",
      " Die Dorfbewohner waren tief berührt von dieser Geschichte und begannen, die kleinen Freuden des Alltags mehr zu schätzen. \n",
      " Der alte Mann lächelte zufrieden, denn er wusste, dass seine Geschichten einen Unterschied machten. \n",
      " Er lehrte die Menschen, dass wahres Glück nicht in Reichtum oder Ruhm zu finden ist, sondern in Liebe und Freundschaft. \n",
      "@@ -22,4 +23,4 @@\n",
      " Die Erwachsenen arbeiteten hart, aber sie nahmen sich immer Zeit, um die kleinen Freuden des Lebens zu genießen. \n",
      " Das Dorf blühte und gedieh, und die Menschen lebten in Harmonie mit der Natur und miteinander. \n",
      " Die Geschichten des alten Mannes waren ein kostbarer Schatz, der das Dorf für immer bereicherte. \n",
      "-Und so lebte der Geist des alten Mannes weiter, in den Herzen und Geschichten der Menschen, die ihn liebten.\n",
      "+Und so lebte der Geist des alten Mannes weiter in den Herzen und Geschichten der Menschen, die ihn liebten.\n",
      "\n"
     ]
    }
   ],
   "source": [
    "unified_diff = difflib.unified_diff(text1, text2, fromfile=\"text1.txt\", tofile=\"text2.txt\")\n",
    "print(\"\".join(unified_diff))"
   ]
  }
 ],
 "metadata": {
  "kernelspec": {
   "display_name": ".venv",
   "language": "python",
   "name": "python3"
  },
  "language_info": {
   "codemirror_mode": {
    "name": "ipython",
    "version": 3
   },
   "file_extension": ".py",
   "mimetype": "text/x-python",
   "name": "python",
   "nbconvert_exporter": "python",
   "pygments_lexer": "ipython3",
   "version": "3.12.9"
  }
 },
 "nbformat": 4,
 "nbformat_minor": 2
}
