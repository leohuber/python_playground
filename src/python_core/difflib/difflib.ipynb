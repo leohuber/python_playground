{
 "cells": [
  {
   "cell_type": "markdown",
   "metadata": {},
   "source": [
    "https://testdriven.io/tips/43480c4e-72db-4728-8afd-0b0f4f42d4f4/\n",
    "\n"
   ]
  },
  {
   "cell_type": "code",
   "execution_count": 9,
   "metadata": {},
   "outputs": [
    {
     "data": {
      "application/vnd.jupyter.widget-view+json": {
       "model_id": "00a5f5b5468c46b599855e49426211b3",
       "version_major": 2,
       "version_minor": 0
      },
      "text/plain": [
       "HTML(value='\\n<!DOCTYPE html PUBLIC \"-//W3C//DTD XHTML 1.0 Transitional//EN\"\\n          \"http://www.w3.org/TR/…"
      ]
     },
     "execution_count": 9,
     "metadata": {},
     "output_type": "execute_result"
    }
   ],
   "source": [
    "import difflib\n",
    "from pathlib import Path\n",
    "\n",
    "import ipywidgets as widgets\n",
    "\n",
    "# Read the contents of the files\n",
    "# Get the directory of the current script\n",
    "current_dir = Path().cwd()\n",
    "\n",
    "# Read the contents of the files\n",
    "text1_file = current_dir / \"text1.txt\"\n",
    "with text1_file.open() as file1:\n",
    "    text1 = file1.readlines()\n",
    "\n",
    "text2_file = current_dir / \"text2.txt\"\n",
    "with text2_file.open() as file2:\n",
    "    text2 = file2.readlines()\n",
    "\n",
    "html_diff = difflib.HtmlDiff().make_file(text1, text2)\n",
    "\n",
    "widgets.HTML(\n",
    "    value=html_diff,\n",
    "    placeholder=\"Some HTML\",\n",
    "    description=\"Some HTML\",\n",
    ")\n",
    "\n"
   ]
  },
  {
   "cell_type": "code",
   "execution_count": null,
   "metadata": {},
   "outputs": [],
   "source": [
    "context_diff = difflib.context_diff(text1, text2)\n",
    "\n",
    "print(\"\".join(context_diff))"
   ]
  }
 ],
 "metadata": {
  "kernelspec": {
   "display_name": ".venv",
   "language": "python",
   "name": "python3"
  },
  "language_info": {
   "codemirror_mode": {
    "name": "ipython",
    "version": 3
   },
   "file_extension": ".py",
   "mimetype": "text/x-python",
   "name": "python",
   "nbconvert_exporter": "python",
   "pygments_lexer": "ipython3",
   "version": "3.12.9"
  }
 },
 "nbformat": 4,
 "nbformat_minor": 2
}
