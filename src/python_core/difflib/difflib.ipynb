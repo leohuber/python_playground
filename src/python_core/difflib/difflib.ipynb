{
 "cells": [
  {
   "cell_type": "markdown",
   "metadata": {},
   "source": [
    "https://testdriven.io/tips/43480c4e-72db-4728-8afd-0b0f4f42d4f4/\n",
    "\n"
   ]
  },
  {
   "cell_type": "code",
   "execution_count": 26,
   "metadata": {},
   "outputs": [
    {
     "data": {
      "application/vnd.jupyter.widget-view+json": {
       "model_id": "d07247d9e45a4a31ae8923472ee63a1c",
       "version_major": 2,
       "version_minor": 0
      },
      "text/plain": [
       "HTML(value='\\n<!DOCTYPE html PUBLIC \"-//W3C//DTD XHTML 1.0 Transitional//EN\"\\n          \"http://www.w3.org/TR/…"
      ]
     },
     "execution_count": 26,
     "metadata": {},
     "output_type": "execute_result"
    }
   ],
   "source": [
    "import difflib\n",
    "from pathlib import Path\n",
    "\n",
    "import ipywidgets as widgets\n",
    "\n",
    "# Read the contents of the files\n",
    "# Get the directory of the current script\n",
    "current_dir = Path().cwd()\n",
    "\n",
    "# Read the contents of the files\n",
    "text1_file = current_dir / \"text1.txt\"\n",
    "with text1_file.open() as file1:\n",
    "    text1 = file1.readlines()\n",
    "\n",
    "text2_file = current_dir / \"text2.txt\"\n",
    "with text2_file.open() as file2:\n",
    "    text2 = file2.readlines()\n",
    "\n",
    "html_diff = difflib.HtmlDiff().make_file(text1, text2)\n",
    "\n",
    "widgets.HTML(\n",
    "    value=html_diff,\n",
    "    placeholder=\"Some HTML\",\n",
    "    description=\"Some HTML\",\n",
    ")\n",
    "\n"
   ]
  },
  {
   "cell_type": "code",
   "execution_count": null,
   "metadata": {},
   "outputs": [
    {
     "name": "stdout",
     "output_type": "stream",
     "text": [
      "<generator object Differ.compare at 0x10862df80>\n",
      "- Es war einmal ein kleiner Junge namens Hans, der in einem kleinen Dorf lebte.\n",
      "?                         ^^^^ --\n",
      "+ Es war einmal ein kleines Mädchen namens Hans, der in einem kleinen Dorf lebte.\n",
      "?                         ^^^^^^^^\n",
      "  Eines Tages fand er im Wald eine geheimnisvolle Truhe voller Goldmünzen.\n",
      "  Er beschloss, das Gold mit den Dorfbewohnern zu teilen und alle waren glücklich.\n",
      "- Von da an lebte Hans ein glückliches und erfülltes Leben im Dorf.\n",
      "?                          ^^^^^^^\n",
      "+ Von da an lebte Hans ein schönes und erfülltes Leben im Dorf.\n",
      "?                          ^  ++\n",
      "- Mittelteil\n",
      "  Die Dorfbewohner erinnerten sich immer an seine Großzügigkeit und Freundlichkeit.\n",
      "  Und so endete die Geschichte von Hans, dem kleinen Jungen mit dem großen Herzen.\n",
      "- Schluss.\n",
      "\n"
     ]
    }
   ],
   "source": [
    "ndiff = difflib.ndiff(text1, text2)\n",
    "\n",
    "print(\"\".join(ndiff))"
   ]
  },
  {
   "cell_type": "code",
   "execution_count": 28,
   "metadata": {},
   "outputs": [
    {
     "name": "stdout",
     "output_type": "stream",
     "text": [
      "*** text1.txt\n",
      "--- text2.txt\n",
      "***************\n",
      "*** 1,8 ****\n",
      "! Es war einmal ein kleiner Junge namens Hans, der in einem kleinen Dorf lebte.\n",
      "  Eines Tages fand er im Wald eine geheimnisvolle Truhe voller Goldmünzen.\n",
      "  Er beschloss, das Gold mit den Dorfbewohnern zu teilen und alle waren glücklich.\n",
      "! Von da an lebte Hans ein glückliches und erfülltes Leben im Dorf.\n",
      "! Mittelteil\n",
      "  Die Dorfbewohner erinnerten sich immer an seine Großzügigkeit und Freundlichkeit.\n",
      "  Und so endete die Geschichte von Hans, dem kleinen Jungen mit dem großen Herzen.\n",
      "- Schluss.\n",
      "--- 1,6 ----\n",
      "! Es war einmal ein kleines Mädchen namens Hans, der in einem kleinen Dorf lebte.\n",
      "  Eines Tages fand er im Wald eine geheimnisvolle Truhe voller Goldmünzen.\n",
      "  Er beschloss, das Gold mit den Dorfbewohnern zu teilen und alle waren glücklich.\n",
      "! Von da an lebte Hans ein schönes und erfülltes Leben im Dorf.\n",
      "  Die Dorfbewohner erinnerten sich immer an seine Großzügigkeit und Freundlichkeit.\n",
      "  Und so endete die Geschichte von Hans, dem kleinen Jungen mit dem großen Herzen.\n",
      "\n"
     ]
    }
   ],
   "source": [
    "context_diff = difflib.context_diff(text1, text2, fromfile=\"text1.txt\", tofile=\"text2.txt\")\n",
    "\n",
    "print(\"\".join(context_diff))"
   ]
  },
  {
   "cell_type": "code",
   "execution_count": null,
   "metadata": {},
   "outputs": [
    {
     "name": "stdout",
     "output_type": "stream",
     "text": [
      "- Es war einmal ein kleiner Junge namens Hans, der in einem kleinen Dorf lebte.\n",
      "?                         ^ ^^ --\n",
      "+ Es war einmal ein kleines Mädchen namens Hans, der in einem kleinen Dorf lebte.\n",
      "?                         ^ ^^^^^^\n",
      "  Eines Tages fand er im Wald eine geheimnisvolle Truhe voller Goldmünzen.\n",
      "  Er beschloss, das Gold mit den Dorfbewohnern zu teilen und alle waren glücklich.\n",
      "- Von da an lebte Hans ein glückliches und erfülltes Leben im Dorf.\n",
      "?                          ^^^^^^^\n",
      "+ Von da an lebte Hans ein schönes und erfülltes Leben im Dorf.\n",
      "?                          ^  ++\n",
      "- Mittelteil\n",
      "  Die Dorfbewohner erinnerten sich immer an seine Großzügigkeit und Freundlichkeit.\n",
      "  Und so endete die Geschichte von Hans, dem kleinen Jungen mit dem großen Herzen.\n",
      "- Schluss.\n",
      "\n"
     ]
    }
   ],
   "source": [
    "d = difflib.Differ()\n",
    "diff = d.compare(text1, text2)\n",
    "print(\"\".join(diff))"
   ]
  },
  {
   "cell_type": "code",
   "execution_count": null,
   "metadata": {},
   "outputs": [
    {
     "name": "stdout",
     "output_type": "stream",
     "text": [
      "\n"
     ]
    }
   ],
   "source": [
    "unified_diff = difflib.unified_diff(text1, text2, fromfile=\"text1.txt\", tofile=\"text2.txt\")\n",
    "print(\"\".join(unified_diff))"
   ]
  }
 ],
 "metadata": {
  "kernelspec": {
   "display_name": ".venv",
   "language": "python",
   "name": "python3"
  },
  "language_info": {
   "codemirror_mode": {
    "name": "ipython",
    "version": 3
   },
   "file_extension": ".py",
   "mimetype": "text/x-python",
   "name": "python",
   "nbconvert_exporter": "python",
   "pygments_lexer": "ipython3",
   "version": "3.12.9"
  }
 },
 "nbformat": 4,
 "nbformat_minor": 2
}
