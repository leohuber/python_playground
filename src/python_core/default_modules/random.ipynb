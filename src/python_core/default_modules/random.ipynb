{
 "cells": [
  {
   "cell_type": "code",
   "execution_count": 5,
   "metadata": {},
   "outputs": [
    {
     "name": "stdout",
     "output_type": "stream",
     "text": [
      "[99, 98, 25, 37, 85, 86, 1, 61, 53, 16, 70, 77, 82, 87, 87, 66, 49, 36, 76, 96, 63, 89, 75, 7, 53, 85, 90, 78, 29, 93, 10, 82, 49, 42, 51, 84, 75, 32, 99, 21, 30, 16, 45, 35, 87, 9, 66, 13, 88, 87, 32, 54, 13, 47, 59, 60, 50, 18, 72, 85, 22, 29, 83, 58, 29, 92, 50, 5, 80, 52, 31, 96, 73, 9, 95, 15, 25, 12, 65, 46, 70, 43, 14, 7, 51, 24, 98, 90, 69, 61, 90, 16, 11, 51, 82, 33, 72, 50, 98, 99]\n"
     ]
    }
   ],
   "source": [
    "from random import randint\n",
    "\n",
    "mylist = [randint(1, 100) for i in range(100)]\n",
    "print(mylist)"
   ]
  }
 ],
 "metadata": {
  "kernelspec": {
   "display_name": ".venv",
   "language": "python",
   "name": "python3"
  },
  "language_info": {
   "codemirror_mode": {
    "name": "ipython",
    "version": 3
   },
   "file_extension": ".py",
   "mimetype": "text/x-python",
   "name": "python",
   "nbconvert_exporter": "python",
   "pygments_lexer": "ipython3",
   "version": "3.12.9"
  }
 },
 "nbformat": 4,
 "nbformat_minor": 2
}
