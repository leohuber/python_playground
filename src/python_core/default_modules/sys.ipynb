{
 "cells": [
  {
   "cell_type": "code",
   "execution_count": 2,
   "metadata": {},
   "outputs": [
    {
     "name": "stdout",
     "output_type": "stream",
     "text": [
      "/Users/leo/.local/share/uv/python/cpython-3.12.9-macos-aarch64-none/lib/python312.zip\n",
      "/Users/leo/.local/share/uv/python/cpython-3.12.9-macos-aarch64-none/lib/python3.12\n",
      "/Users/leo/.local/share/uv/python/cpython-3.12.9-macos-aarch64-none/lib/python3.12/lib-dynload\n",
      "\n",
      "/Users/leo/Development/projects/python_playground/.venv/lib/python3.12/site-packages\n"
     ]
    }
   ],
   "source": [
    "from sys import path\n",
    "\n",
    "for p in path:\n",
    "    print(p)"
   ]
  }
 ],
 "metadata": {
  "kernelspec": {
   "display_name": ".venv",
   "language": "python",
   "name": "python3"
  },
  "language_info": {
   "codemirror_mode": {
    "name": "ipython",
    "version": 3
   },
   "file_extension": ".py",
   "mimetype": "text/x-python",
   "name": "python",
   "nbconvert_exporter": "python",
   "pygments_lexer": "ipython3",
   "version": "3.12.9"
  }
 },
 "nbformat": 4,
 "nbformat_minor": 2
}
