{
 "cells": [
  {
   "cell_type": "code",
   "execution_count": null,
   "metadata": {},
   "outputs": [],
   "source": [
    "def greet(name: str, age: int) -> str:\n",
    "    \"\"\"\n",
    "    Returns a greeting message with the given name and age.\n",
    "\n",
    "    :param name: The name of the person.\n",
    "    :param age: The age of the person.\n",
    "    :return: A greeting message.\n",
    "    \"\"\"\n",
    "    return f\"Hello, {name}! You are {age} years old.\"\n",
    "\n",
    "# Example usage\n",
    "message = greet(\"Alice\", 30)\n",
    "print(message)"
   ]
  }
 ],
 "metadata": {
  "language_info": {
   "name": "python"
  }
 },
 "nbformat": 4,
 "nbformat_minor": 2
}
