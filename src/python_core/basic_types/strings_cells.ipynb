{
 "cells": [
  {
   "cell_type": "markdown",
   "metadata": {},
   "source": [
    "# Formatted Strings (F-Strings)\n",
    "\n",
    "F-strings provide a way to embed expressions inside string literals, using curly braces {}."
   ]
  },
  {
   "cell_type": "code",
   "execution_count": 2,
   "metadata": {},
   "outputs": [
    {
     "name": "stdout",
     "output_type": "stream",
     "text": [
      "Hello, my name is Alice and I am 30 years old.\n",
      "5 + 3 = 8\n",
      "HELLO world!\n",
      "Pi to three decimal places: 3.142\n",
      "Name: Bob, Age: 25\n",
      "\n",
      "Name: Alice\n",
      "Age: 30\n",
      "\n"
     ]
    }
   ],
   "source": [
    "name = \"Alice\"\n",
    "age = 30\n",
    "\n",
    "# Basic usage\n",
    "greeting = f\"Hello, my name is {name} and I am {age} years old.\"\n",
    "print(greeting)\n",
    "\n",
    "# Expressions inside f-strings\n",
    "calculation = f\"5 + 3 = {5 + 3}\"\n",
    "print(calculation)\n",
    "\n",
    "# Calling functions\n",
    "def to_uppercase(s):\n",
    "    return s.upper()\n",
    "\n",
    "shout = f\"{to_uppercase('hello')} world!\"\n",
    "print(shout)\n",
    "\n",
    "# Formatting numbers\n",
    "pi = 3.14159\n",
    "formatted_pi = f\"Pi to three decimal places: {pi:.3f}\"\n",
    "print(formatted_pi)\n",
    "\n",
    "# Using dictionaries\n",
    "person = {\"name\": \"Bob\", \"age\": 25}\n",
    "intro = f\"Name: {person['name']}, Age: {person['age']}\"\n",
    "print(intro)\n",
    "\n",
    "# Using f-strings with multiline strings\n",
    "multiline = f\"\"\"\n",
    "Name: {name}\n",
    "Age: {age}\n",
    "\"\"\"\n",
    "print(multiline)\n"
   ]
  },
  {
   "cell_type": "markdown",
   "metadata": {},
   "source": [
    "# Raw strings (R-Strings)\n",
    "\n",
    "R-strings are string literals that treat backslashes as literal characters."
   ]
  },
  {
   "cell_type": "code",
   "execution_count": null,
   "metadata": {},
   "outputs": [],
   "source": [
    "# Basic usage\n",
    "raw_string = r\"This is a raw string with a backslash: \\\\\"\n",
    "print(raw_string)\n",
    "\n",
    "# Raw strings with newlines\n",
    "raw_multiline = r\"First line\\nSecond line\"\n",
    "print(raw_multiline)\n",
    "\n",
    "# Raw strings with file paths\n",
    "file_path = r\"C:\\Users\\leo\\Development\\projects\\python_playground\\src\\basic_types\\strings_cells.py\"\n",
    "print(file_path)"
   ]
  }
 ],
 "metadata": {
  "kernelspec": {
   "display_name": ".venv",
   "language": "python",
   "name": "python3"
  },
  "language_info": {
   "codemirror_mode": {
    "name": "ipython",
    "version": 3
   },
   "file_extension": ".py",
   "mimetype": "text/x-python",
   "name": "python",
   "nbconvert_exporter": "python",
   "pygments_lexer": "ipython3",
   "version": "3.12.9"
  }
 },
 "nbformat": 4,
 "nbformat_minor": 2
}
