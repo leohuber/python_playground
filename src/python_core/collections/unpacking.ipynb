{
 "cells": [
  {
   "cell_type": "code",
   "execution_count": 8,
   "metadata": {},
   "outputs": [
    {
     "name": "stdout",
     "output_type": "stream",
     "text": [
      "1\n",
      "2\n",
      "[3, 4]\n",
      "5\n"
     ]
    }
   ],
   "source": [
    "numbers = [1, 2, 3, 4, 5]\n",
    "\n",
    "first, second, *middle, last = numbers\n",
    "\n",
    "print(first)   # 1\n",
    "print(second)   # 2\n",
    "print(middle)  # [3, 4]\n",
    "print(last)    # 5"
   ]
  },
  {
   "cell_type": "markdown",
   "metadata": {},
   "source": [
    "# Unpacking in loops\n",
    "\n",
    "Method reduce the required params"
   ]
  },
  {
   "cell_type": "code",
   "execution_count": 10,
   "metadata": {},
   "outputs": [
    {
     "name": "stdout",
     "output_type": "stream",
     "text": [
      "Leo -> ['Engineering', 'Senior', 2025]\n",
      "Ana -> ['Design']\n",
      "Sam -> ['Product', 'Junior']\n"
     ]
    }
   ],
   "source": [
    "data = [\n",
    "    (\"Leo\", \"Engineering\", \"Senior\", 2025),\n",
    "    (\"Ana\", \"Design\"),\n",
    "    (\"Sam\", \"Product\", \"Junior\"),\n",
    "]\n",
    "\n",
    "for name, *details in data:\n",
    "    print(f\"{name} -> {details}\")"
   ]
  },
  {
   "cell_type": "code",
   "execution_count": 9,
   "metadata": {
    "vscode": {
     "languageId": "javascript"
    }
   },
   "outputs": [
    {
     "ename": "SyntaxError",
     "evalue": "invalid syntax (440567385.py, line 8)",
     "output_type": "error",
     "traceback": [
      "  \u001b[36mCell\u001b[39m\u001b[36m \u001b[39m\u001b[32mIn[9]\u001b[39m\u001b[32m, line 8\u001b[39m\n\u001b[31m    \u001b[39m\u001b[31mconst { first, second, middle, last } = data_dict;\u001b[39m\n          ^\n\u001b[31mSyntaxError\u001b[39m\u001b[31m:\u001b[39m invalid syntax\n"
     ]
    }
   ],
   "source": [
    "data_dict = {\n",
    "    \"first\": first,\n",
    "    \"second\": second,\n",
    "    \"middle\": middle,\n",
    "    \"last\": last,\n",
    "}\n",
    "\n",
    "const { first, second, middle, last } = data_dict;\n",
    "\n",
    "console.log(first);   // 1\n",
    "console.log(second);  // 2\n",
    "console.log(middle);  // [3, 4]\n",
    "console.log(last);    // 5\n",
    "console.log(numbers); // [1, 2, 3, 4, 5]"
   ]
  },
  {
   "cell_type": "code",
   "execution_count": 14,
   "metadata": {
    "vscode": {
     "languageId": "javascript"
    }
   },
   "outputs": [
    {
     "name": "stdout",
     "output_type": "stream",
     "text": [
      "31230000000.0\n"
     ]
    }
   ],
   "source": [
    "print(3.123e10)"
   ]
  }
 ],
 "metadata": {
  "kernelspec": {
   "display_name": ".venv",
   "language": "python",
   "name": "python3"
  },
  "language_info": {
   "codemirror_mode": {
    "name": "ipython",
    "version": 3
   },
   "file_extension": ".py",
   "mimetype": "text/x-python",
   "name": "python",
   "nbconvert_exporter": "python",
   "pygments_lexer": "ipython3",
   "version": "3.12.9"
  }
 },
 "nbformat": 4,
 "nbformat_minor": 2
}
