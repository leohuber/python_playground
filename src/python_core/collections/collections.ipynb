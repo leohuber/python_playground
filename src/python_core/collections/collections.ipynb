{
 "cells": [
  {
   "cell_type": "code",
   "execution_count": null,
   "metadata": {},
   "outputs": [
    {
     "name": "stdout",
     "output_type": "stream",
     "text": [
      "Point coordinates: x=10, y=20\n",
      "Access by index: x=10, y=20\n"
     ]
    }
   ],
   "source": [
    "from collections import namedtuple\n",
    "\n",
    "# Define a namedtuple called 'Point'\n",
    "Point = namedtuple(\"Point\", [\"x\", \"y\"])  # noqa: PYI024\n",
    "\n",
    "# Create an instance of Point\n",
    "p = Point(10, 20)\n",
    "\n",
    "# Access the fields\n",
    "print(f\"Point coordinates: x={p.x}, y={p.y}\")\n",
    "\n",
    "# You can also access fields by index\n",
    "print(f\"Access by index: x={p[0]}, y={p[1]}\")"
   ]
  },
  {
   "cell_type": "code",
   "execution_count": 2,
   "metadata": {},
   "outputs": [
    {
     "name": "stdout",
     "output_type": "stream",
     "text": [
      "Point coordinates: x=10, y=20\n",
      "Access by index: x=10, y=20\n"
     ]
    }
   ],
   "source": [
    "from typing import NamedTuple\n",
    "\n",
    "\n",
    "class Point(NamedTuple):\n",
    "    x: int\n",
    "    y: int\n",
    "\n",
    "\n",
    "# Create an instance of Point\n",
    "p = Point(10, 20)\n",
    "\n",
    "# Access the fields\n",
    "print(f\"Point coordinates: x={p.x}, y={p.y}\")\n",
    "\n",
    "# You can also access fields by index\n",
    "print(f\"Access by index: x={p[0]}, y={p[1]}\")"
   ]
  },
  {
   "cell_type": "code",
   "execution_count": null,
   "metadata": {},
   "outputs": [],
   "source": []
  }
 ],
 "metadata": {
  "kernelspec": {
   "display_name": ".venv",
   "language": "python",
   "name": "python3"
  },
  "language_info": {
   "codemirror_mode": {
    "name": "ipython",
    "version": 3
   },
   "file_extension": ".py",
   "mimetype": "text/x-python",
   "name": "python",
   "nbconvert_exporter": "python",
   "pygments_lexer": "ipython3",
   "version": "3.12.9"
  }
 },
 "nbformat": 4,
 "nbformat_minor": 2
}
