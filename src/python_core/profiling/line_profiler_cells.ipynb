{
 "cells": [
  {
   "cell_type": "markdown",
   "metadata": {},
   "source": [
    "# Line Profiler"
   ]
  },
  {
   "cell_type": "code",
   "execution_count": 1,
   "metadata": {},
   "outputs": [],
   "source": [
    "%load_ext line_profiler"
   ]
  },
  {
   "cell_type": "code",
   "execution_count": 2,
   "metadata": {},
   "outputs": [
    {
     "name": "stdout",
     "output_type": "stream",
     "text": [
      "Timer unit: 1e-09 s\n",
      "\n",
      "Total time: 1e-06 s\n",
      "File: /var/folders/dz/95g2sgfx00q73j75gv0fnnt40000gn/T/ipykernel_54256/4222823880.py\n",
      "Function: my_func at line 1\n",
      "\n",
      "Line #      Hits         Time  Per Hit   % Time  Line Contents\n",
      "==============================================================\n",
      "     1                                           def my_func():\n",
      "     2         1       1000.0   1000.0    100.0      a = 1\n",
      "     3         1          0.0      0.0      0.0      b = 2\n",
      "     4         1          0.0      0.0      0.0      return a + b"
     ]
    }
   ],
   "source": [
    "def my_func():\n",
    "    a = 1\n",
    "    b = 2\n",
    "    return a + b\n",
    "%lprun -f my_func my_func()\n"
   ]
  },
  {
   "cell_type": "code",
   "execution_count": null,
   "metadata": {},
   "outputs": [],
   "source": []
  }
 ],
 "metadata": {
  "kernelspec": {
   "display_name": ".venv",
   "language": "python",
   "name": "python3"
  },
  "language_info": {
   "codemirror_mode": {
    "name": "ipython",
    "version": 3
   },
   "file_extension": ".py",
   "mimetype": "text/x-python",
   "name": "python",
   "nbconvert_exporter": "python",
   "pygments_lexer": "ipython3",
   "version": "3.12.9"
  }
 },
 "nbformat": 4,
 "nbformat_minor": 2
}
