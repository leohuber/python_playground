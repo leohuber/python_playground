{
 "cells": [
  {
   "cell_type": "code",
   "execution_count": 2,
   "metadata": {},
   "outputs": [
    {
     "name": "stdout",
     "output_type": "stream",
     "text": [
      "5.08 μs ± 2.09 μs per loop (mean ± std. dev. of 7 runs, 1 loop each)\n"
     ]
    }
   ],
   "source": [
    "%%timeit\n",
    "# Measure time on a cell\n",
    "import numpy as np\n",
    "rand_nums = np.random.rand(1000)\n"
   ]
  },
  {
   "cell_type": "code",
   "execution_count": 5,
   "metadata": {},
   "outputs": [
    {
     "name": "stdout",
     "output_type": "stream",
     "text": [
      "2.45 μs ± 199 ns per loop (mean ± std. dev. of 7 runs, 100,000 loops each)\n"
     ]
    }
   ],
   "source": [
    "# Measure time on a single line\n",
    "import numpy as np\n",
    "time = %timeit -o np.random.rand(1000)\n"
   ]
  },
  {
   "cell_type": "code",
   "execution_count": null,
   "metadata": {},
   "outputs": [],
   "source": [
    "# dict() vs literal {}\n",
    "f_time = %timeit -o dict()\n",
    "l_time = %timeit -o {}\n",
    "diff = (f_time.average - l_time.average) / f_time.average * 100\n",
    "print(f\"Dict() is {diff:.2f}% slower than {{}}\")\n",
    " "
   ]
  },
  {
   "cell_type": "code",
   "execution_count": null,
   "metadata": {},
   "outputs": [],
   "source": [
    "## List comprehension vs unpacking\n",
    "time_comp = %timeit -o [i for i in range(1000)]\n",
    "time_unpack = %timeit -o [*range(1000)]\n",
    "diff = (time_comp.average - time_unpack.average) / time_comp.average * 100\n",
    "print(f\"List comprehension is {diff:.2f}% slower than unpacking\")\n"
   ]
  },
  {
   "cell_type": "code",
   "execution_count": null,
   "metadata": {},
   "outputs": [],
   "source": [
    "# Modify the number of runs and loops\n",
    "time = %timeit -r 10 -n 1000 np.random.rand(1000)"
   ]
  },
  {
   "cell_type": "code",
   "execution_count": null,
   "metadata": {},
   "outputs": [],
   "source": []
  }
 ],
 "metadata": {
  "kernelspec": {
   "display_name": ".venv",
   "language": "python",
   "name": "python3"
  },
  "language_info": {
   "codemirror_mode": {
    "name": "ipython",
    "version": 3
   },
   "file_extension": ".py",
   "mimetype": "text/x-python",
   "name": "python",
   "nbconvert_exporter": "python",
   "pygments_lexer": "ipython3",
   "version": "3.12.9"
  }
 },
 "nbformat": 4,
 "nbformat_minor": 2
}
