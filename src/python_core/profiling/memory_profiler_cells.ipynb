{
 "cells": [
  {
   "cell_type": "code",
   "execution_count": 1,
   "metadata": {},
   "outputs": [],
   "source": [
    "from bmi_functions import calc_bmi_lists\n",
    "from bmi_functions import calc_bmi_arrays\n",
    "import random\n",
    "import numpy as np\n"
   ]
  },
  {
   "cell_type": "code",
   "execution_count": 2,
   "metadata": {},
   "outputs": [],
   "source": [
    "hts = np.array([random.uniform(0.5, 2.2) for _ in range(480)])\n",
    "wts = np.array([random.uniform(50, 220) for _ in range(480)])\n",
    "indices = np.array([i % 480 for i in range(25000)])\n",
    "\n"
   ]
  },
  {
   "cell_type": "code",
   "execution_count": 3,
   "metadata": {},
   "outputs": [],
   "source": [
    "%load_ext memory_profiler \n"
   ]
  },
  {
   "cell_type": "code",
   "execution_count": 4,
   "metadata": {},
   "outputs": [
    {
     "name": "stdout",
     "output_type": "stream",
     "text": [
      "\n"
     ]
    },
    {
     "name": "stdout",
     "output_type": "stream",
     "text": [
      "Filename: /Users/leo/Development/projects/python_playground/src/python_core/profiling/bmi_functions.py\n",
      "\n",
      "Line #    Mem usage    Increment  Occurrences   Line Contents\n",
      "=============================================================\n",
      "     1     78.8 MiB     78.8 MiB           1   def calc_bmi_lists(sample_indices, hts, wts):\n",
      "     2                                         \n",
      "     3                                             # Gather sample heights and weights as lists\n",
      "     4     79.5 MiB      0.8 MiB       25001       s_hts = [hts[i] for i in sample_indices]\n",
      "     5     80.3 MiB      0.8 MiB       25001       s_wts = [wts[i] for i in sample_indices]\n",
      "     6                                         \n",
      "     7                                             # Convert heights from cm to m and square with list comprehension\n",
      "     8     81.2 MiB      1.0 MiB       25001       s_hts_m_sqr = [(ht / 100) ** 2 for ht in s_hts]\n",
      "     9                                         \n",
      "    10                                             # Calculate BMIs as a list with list comprehension\n",
      "    11     82.0 MiB      0.8 MiB       25001       bmis = [s_wts[i] / s_hts_m_sqr[i] for i in range(len(sample_indices))]\n",
      "    12                                         \n",
      "    13     82.0 MiB      0.0 MiB           1       return bmis"
     ]
    }
   ],
   "source": [
    "%mprun -f calc_bmi_lists calc_bmi_lists(indices, hts, wts)\n"
   ]
  },
  {
   "cell_type": "code",
   "execution_count": 5,
   "metadata": {},
   "outputs": [
    {
     "name": "stdout",
     "output_type": "stream",
     "text": [
      "\n"
     ]
    },
    {
     "name": "stdout",
     "output_type": "stream",
     "text": [
      "Filename: /Users/leo/Development/projects/python_playground/src/python_core/profiling/bmi_functions.py\n",
      "\n",
      "Line #    Mem usage    Increment  Occurrences   Line Contents\n",
      "=============================================================\n",
      "    16     82.1 MiB     82.1 MiB           1   def calc_bmi_arrays(sample_indices, hts, wts):\n",
      "    17                                         \n",
      "    18                                             # Gather sample heights and weights as arrays\n",
      "    19     82.1 MiB      0.0 MiB           1       s_hts = hts[sample_indices]\n",
      "    20     82.1 MiB      0.0 MiB           1       s_wts = wts[sample_indices]\n",
      "    21                                         \n",
      "    22                                             # Convert heights from cm to m and square with broadcasting\n",
      "    23     82.1 MiB      0.0 MiB           1       s_hts_m_sqr = (s_hts / 100) ** 2\n",
      "    24                                         \n",
      "    25                                             # Calculate BMIs as an array using broadcasting\n",
      "    26     82.1 MiB      0.0 MiB           1       bmis = s_wts / s_hts_m_sqr\n",
      "    27                                         \n",
      "    28     82.1 MiB      0.0 MiB           1       return bmis"
     ]
    }
   ],
   "source": [
    "%mprun -f calc_bmi_arrays calc_bmi_arrays(indices, hts, wts)\n",
    "\n"
   ]
  }
 ],
 "metadata": {
  "kernelspec": {
   "display_name": ".venv",
   "language": "python",
   "name": "python3"
  },
  "language_info": {
   "codemirror_mode": {
    "name": "ipython",
    "version": 3
   },
   "file_extension": ".py",
   "mimetype": "text/x-python",
   "name": "python",
   "nbconvert_exporter": "python",
   "pygments_lexer": "ipython3",
   "version": "3.12.9"
  }
 },
 "nbformat": 4,
 "nbformat_minor": 2
}
