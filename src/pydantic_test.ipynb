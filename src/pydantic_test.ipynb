{
 "cells": [
  {
   "cell_type": "code",
   "execution_count": 12,
   "id": "14260db9",
   "metadata": {},
   "outputs": [
    {
     "data": {
      "text/plain": [
       "'{\"properties\": {\"target_market_segmentation\": {\"description\": \"Structure and changes to customer segments within the industry, considering factors such as demographics, psychographics, and buying behavior.\", \"maxLength\": 1000, \"title\": \"Target Market Segmentation\", \"type\": \"string\"}, \"client_needs_preferences\": {\"description\": \"Understanding of the clients needs and preferences, including their pain points and desired outcomes.\", \"maxLength\": 1000, \"title\": \"Client Needs Preferences\", \"type\": \"string\"}, \"customer_lifecycle\": {\"description\": \"Awareness of the customer lifecycle stages, including acquisition, retention, and loyalty.\", \"maxLength\": 1000, \"title\": \"Customer Lifecycle\", \"type\": \"string\"}, \"client_acquisition_costs\": {\"description\": \"Costs associated with acquiring new clients, including marketing and sales expenses.\", \"maxLength\": 1000, \"title\": \"Client Acquisition Costs\", \"type\": \"string\"}, \"client_retention_strategies\": {\"description\": \"Strategies for client retention and loyalty-building, considering industry-specific best practices.\", \"maxLength\": 1000, \"title\": \"Client Retention Strategies\", \"type\": \"string\"}, \"client_satisfaction_feedback\": {\"description\": \"Changes to client satisfaction monitoring through surveys and feedback mechanisms to improve products and services.\", \"maxLength\": 1000, \"title\": \"Client Satisfaction Feedback\", \"type\": \"string\"}, \"competitive_landscape\": {\"description\": \"Assessment of the competitive landscape within the industry and how it impacts client choices and loyalty.\", \"maxLength\": 1000, \"title\": \"Competitive Landscape\", \"type\": \"string\"}, \"emerging_client_trends\": {\"description\": \"Emerging client-related trends, such as changes in buying behavior, preference for sustainable products, or demand for digital services.\", \"maxLength\": 1000, \"title\": \"Emerging Client Trends\", \"type\": \"string\"}, \"pricing_strategies\": {\"description\": \"Evaluation of pricing strategies within the industry and their impact on client acquisition and retention.\", \"maxLength\": 1000, \"title\": \"Pricing Strategies\", \"type\": \"string\"}, \"customer_experience\": {\"description\": \"Focus on enhancing the overall customer experience to differentiate from competitors and build brand loyalty.\", \"maxLength\": 1000, \"title\": \"Customer Experience\", \"type\": \"string\"}, \"summary\": {\"description\": \"Summary with the most relevant information required for business leaders.\", \"maxLength\": 2000, \"title\": \"Summary\", \"type\": \"string\"}}, \"required\": [\"target_market_segmentation\", \"client_needs_preferences\", \"customer_lifecycle\", \"client_acquisition_costs\", \"client_retention_strategies\", \"client_satisfaction_feedback\", \"competitive_landscape\", \"emerging_client_trends\", \"pricing_strategies\", \"customer_experience\", \"summary\"], \"title\": \"AnswerFormat\", \"type\": \"object\"}'"
      ]
     },
     "execution_count": 12,
     "metadata": {},
     "output_type": "execute_result"
    }
   ],
   "source": [
    "from pydantic import BaseModel, Field\n",
    "import json\n",
    "\n",
    "length = 1000\n",
    "\n",
    "class AnswerFormat(BaseModel):\n",
    "    target_market_segmentation: str = Field(..., max_length=length, description=\"Structure and changes to customer segments within the industry, considering factors such as demographics, psychographics, and buying behavior.\")\n",
    "    client_needs_preferences: str = Field(..., max_length=length, description=\"Understanding of the clients needs and preferences, including their pain points and desired outcomes.\")\n",
    "    customer_lifecycle: str = Field(..., max_length=length, description=\"Awareness of the customer lifecycle stages, including acquisition, retention, and loyalty.\")\n",
    "    client_acquisition_costs: str = Field(..., max_length=length, description=\"Costs associated with acquiring new clients, including marketing and sales expenses.\")\n",
    "    client_retention_strategies: str = Field(..., max_length=length, description=\"Strategies for client retention and loyalty-building, considering industry-specific best practices.\")\n",
    "    client_satisfaction_feedback: str = Field(..., max_length=length, description=\"Changes to client satisfaction monitoring through surveys and feedback mechanisms to improve products and services.\")\n",
    "    competitive_landscape: str = Field(..., max_length=length, description=\"Assessment of the competitive landscape within the industry and how it impacts client choices and loyalty.\")\n",
    "    emerging_client_trends: str = Field(..., max_length=length, description=\"Emerging client-related trends, such as changes in buying behavior, preference for sustainable products, or demand for digital services.\")\n",
    "    pricing_strategies: str = Field(..., max_length=length, description=\"Evaluation of pricing strategies within the industry and their impact on client acquisition and retention.\")\n",
    "    customer_experience: str = Field(..., max_length=length, description=\"Focus on enhancing the overall customer experience to differentiate from competitors and build brand loyalty.\")\n",
    "    summary: str = Field(..., max_length=2*length, description=\"Summary with the most relevant information required for business leaders.\")\n",
    "\n",
    "json.dumps(AnswerFormat.model_json_schema())"
   ]
  }
 ],
 "metadata": {
  "kernelspec": {
   "display_name": ".venv",
   "language": "python",
   "name": "python3"
  },
  "language_info": {
   "codemirror_mode": {
    "name": "ipython",
    "version": 3
   },
   "file_extension": ".py",
   "mimetype": "text/x-python",
   "name": "python",
   "nbconvert_exporter": "python",
   "pygments_lexer": "ipython3",
   "version": "3.12.9"
  }
 },
 "nbformat": 4,
 "nbformat_minor": 5
}
