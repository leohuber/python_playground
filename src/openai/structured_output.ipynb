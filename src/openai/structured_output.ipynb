{
 "cells": [
  {
   "cell_type": "code",
   "execution_count": null,
   "metadata": {},
   "outputs": [
    {
     "ename": "SyntaxError",
     "evalue": "invalid syntax (70483731.py, line 20)",
     "output_type": "error",
     "traceback": [
      "  \u001b[36mCell\u001b[39m\u001b[36m \u001b[39m\u001b[32mIn[1]\u001b[39m\u001b[32m, line 20\u001b[39m\n\u001b[31m    \u001b[39m\u001b[31mCLASS TYPE(str, Enum):\u001b[39m\n          ^\n\u001b[31mSyntaxError\u001b[39m\u001b[31m:\u001b[39m invalid syntax\n"
     ]
    }
   ],
   "source": [
    "from enum import Enum\n",
    "from lib2to3.fixes.fix_idioms import TYPE\n",
    "\n",
    "from pydantic import BaseModel, Field\n",
    "\n",
    "\n",
    "class REGION(str, Enum):\n",
    "        SWISS = \"Swiss\"\n",
    "        ITALIAN = \"Italian\"\n",
    "        FRENCH = \"French\"\n",
    "        GERMAN = \"German\"\n",
    "        MEXICAN = \"Mexican\"\n",
    "        INDIAN = \"Indian\"\n",
    "        ASIAN = \"Asian\"\n",
    "        AMERICAN = \"American\"\n",
    "        MEDITERRANEAN = \"Mediterranean\"\n",
    "        MIDDLE_EASTERN = \"Middle Eastern\"\n",
    "        AFRICAN = \"African\"\n",
    "\n",
    "class TYPE(str, Enum):\n",
    "        MAIN_COURSE = \"Main Course\"\n",
    "        DESSERT = \"Dessert\"\n",
    "        BREAKFAST = \"Breakfast\"\n",
    "        SOUP = \"Soup\"\n",
    "        SALAD = \"Salad\"\n",
    "        VEGETARIAN = \"Vegetarian\"\n",
    "        QUICK = \"Quick\"\n",
    "        EASY = \"Easy\"\n",
    "\n",
    "class Ingredient(BaseModel):\n",
    "    name: str = Field(..., description=\"The name of the ingredient.\")\n",
    "    amount: str = Field(..., description=\"The volume or weight of the ingredient (e.g., '200 grams', '1 liter').\")\n",
    "    unit: str = Field(..., description=\"The unit of measurement used in the metric system (e.g., grams, milliliters, cups).\")\n",
    "\n",
    "class CookingRecipe(BaseModel):\n",
    "    title: str = Field(..., description=\"The title of the recipe.\")\n",
    "    file_name: str = Field(..., description=\"The name of the markdown file in snake case and englisch in which the recipe is stored.\")\n",
    "    tags: list[RecipeTag] = Field(..., description=\"List of tags associated with the recipe.\")\n",
    "    servings: int = Field(..., description=\"The number of persons the recipe serves.\")\n",
    "    description: str = Field(..., description=\"A brief description of the recipe.\")\n",
    "    ingredients: list[Ingredient] = Field(..., description=\"List of ingredients for the recipe.\")\n",
    "    instructions: list[str] = Field(..., description=\"Step-by-step instructions for preparing the recipe.\")\n",
    "    notes: str = Field(None, description=\"Additional notes or tips for the recipe.\")"
   ]
  },
  {
   "cell_type": "code",
   "execution_count": 2,
   "metadata": {},
   "outputs": [
    {
     "ename": "NameError",
     "evalue": "name 'CookingRecipe' is not defined",
     "output_type": "error",
     "traceback": [
      "\u001b[31m---------------------------------------------------------------------------\u001b[39m",
      "\u001b[31mNameError\u001b[39m                                 Traceback (most recent call last)",
      "\u001b[36mCell\u001b[39m\u001b[36m \u001b[39m\u001b[32mIn[2]\u001b[39m\u001b[32m, line 13\u001b[39m\n\u001b[32m      3\u001b[39m \u001b[38;5;28;01mfrom\u001b[39;00m\u001b[38;5;250m \u001b[39m\u001b[34;01mopenai\u001b[39;00m\u001b[38;5;250m \u001b[39m\u001b[38;5;28;01mimport\u001b[39;00m OpenAI\n\u001b[32m      5\u001b[39m client = OpenAI()\n\u001b[32m      7\u001b[39m completion = client.beta.chat.completions.parse(\n\u001b[32m      8\u001b[39m     model=\u001b[33m\"\u001b[39m\u001b[33mgpt-4o-2024-08-06\u001b[39m\u001b[33m\"\u001b[39m,\n\u001b[32m      9\u001b[39m     messages=[\n\u001b[32m     10\u001b[39m         {\u001b[33m\"\u001b[39m\u001b[33mrole\u001b[39m\u001b[33m\"\u001b[39m: \u001b[33m\"\u001b[39m\u001b[33msystem\u001b[39m\u001b[33m\"\u001b[39m, \u001b[33m\"\u001b[39m\u001b[33mcontent\u001b[39m\u001b[33m\"\u001b[39m: \u001b[33m\"\u001b[39m\u001b[33mYou are a 5 star cook providing guidance on cooking specialized recipes.\u001b[39m\u001b[33m\"\u001b[39m},\n\u001b[32m     11\u001b[39m         {\u001b[33m\"\u001b[39m\u001b[33mrole\u001b[39m\u001b[33m\"\u001b[39m: \u001b[33m\"\u001b[39m\u001b[33muser\u001b[39m\u001b[33m\"\u001b[39m, \u001b[33m\"\u001b[39m\u001b[33mcontent\u001b[39m\u001b[33m\"\u001b[39m: \u001b[33m\"\u001b[39m\u001b[33mI need a recipe for a pad thai in german\u001b[39m\u001b[33m\"\u001b[39m},\n\u001b[32m     12\u001b[39m     ],\n\u001b[32m---> \u001b[39m\u001b[32m13\u001b[39m     response_format=\u001b[43mCookingRecipe\u001b[49m,\n\u001b[32m     14\u001b[39m )\n\u001b[32m     16\u001b[39m recipee = completion.choices[\u001b[32m0\u001b[39m].message.parsed\n\u001b[32m     18\u001b[39m \u001b[38;5;28mprint\u001b[39m(recipee)\n",
      "\u001b[31mNameError\u001b[39m: name 'CookingRecipe' is not defined"
     ]
    }
   ],
   "source": [
    "from pydantic import BaseModel\n",
    "\n",
    "from openai import OpenAI\n",
    "\n",
    "client = OpenAI()\n",
    "\n",
    "completion = client.beta.chat.completions.parse(\n",
    "    model=\"gpt-4o-2024-08-06\",\n",
    "    messages=[\n",
    "        {\"role\": \"system\", \"content\": \"You are a 5 star cook providing guidance on cooking specialized recipes.\"},\n",
    "        {\"role\": \"user\", \"content\": \"I need a recipe for a pad thai in german\"},\n",
    "    ],\n",
    "    response_format=CookingRecipe,\n",
    ")\n",
    "\n",
    "recipee = completion.choices[0].message.parsed\n",
    "\n",
    "print(recipee)"
   ]
  },
  {
   "cell_type": "code",
   "execution_count": 3,
   "metadata": {},
   "outputs": [
    {
     "data": {
      "text/markdown": [
       "# Authentisches Pad Thai\n",
       "\n",
       "### Beschreibung\n",
       "\n",
       "Portionen: 4\n",
       "\n",
       "Ein klassisches thailändisches Gericht mit gebratenen Nudeln, Tofu, Gemüse und einer herzhaften Erdnuss-Soße.\n",
       "\n",
       "### Zutaten\n",
       "\n",
       "| Zutat | Menge | Einheit |\n",
       "|------------|----------|------|\n",
       "| Reisnudeln | 200 | Gramm |\n",
       "| Tofu | 250 | Gramm |\n",
       "| Sojasprossen | 100 | Gramm |\n",
       "| Frühlingszwiebeln | 2 | Stück |\n",
       "| Eier | 2 | Stück |\n",
       "| Knoblauchzehen | 2 | Stück |\n",
       "| Erdnussöl | 2 | Esslöffel |\n",
       "| Sojasoße | 3 | Esslöffel |\n",
       "| Fischsoße | 2 | Esslöffel |\n",
       "| Tamarindenpaste | 1 | Esslöffel |\n",
       "| Zucker | 1 | Esslöffel |\n",
       "| Erdnüsse | 50 | Gramm |\n",
       "\n",
       "\n",
       "## Anleitung\n",
       "\n",
       "\n",
       "* Reisnudeln nach Packungsanweisung zubereiten und beiseite stellen.\n",
       "\n",
       "* Tofu in kleine Würfel schneiden.\n",
       "\n",
       "* Frühlingszwiebeln in Ringe schneiden und Sojasprossen waschen.\n",
       "\n",
       "* Eier in einer Schüssel verquirlen.\n",
       "\n",
       "* Knoblauch fein hacken.\n",
       "\n",
       "* Erdnussöl in einer großen Pfanne erhitzen und den Knoblauch darin anbraten.\n",
       "\n",
       "* Tofu hinzufügen und goldbraun braten.\n",
       "\n",
       "* Frühlingszwiebeln, Sojasprossen und Nudeln hinzufügen und gut umrühren.\n",
       "\n",
       "* Die verquirlten Eier in die Pfanne geben und unter Rühren stocken lassen.\n",
       "\n",
       "* Sojasoße, Fischsoße, Tamarindenpaste und Zucker in die Pfanne geben und gut vermengen.\n",
       "\n",
       "* Mit gehackten Erdnüssen bestreuen und servieren.\n",
       "\n",
       "\n",
       "### Anmerkungen\n",
       "\n",
       "Für eine noch authentischere Note verwenden Sie Palmzucker und eventuell Chilipulver, um eine schärfere Variante zu kreieren."
      ],
      "text/plain": [
       "<IPython.core.display.Markdown object>"
      ]
     },
     "metadata": {},
     "output_type": "display_data"
    }
   ],
   "source": [
    "from pathlib import Path\n",
    "\n",
    "from jinja2 import Environment, FileSystemLoader\n",
    "\n",
    "from IPython.display import Markdown\n",
    "from IPython.display import display as ipydisplay\n",
    "\n",
    "# Load the Jinja2 template\n",
    "current_dir = Path(__file__).parent if \"__file__\" in locals() else Path.cwd()\n",
    "template_file = current_dir / \"recipe_template.j2\"\n",
    "file_loader = FileSystemLoader(current_dir)\n",
    "env = Environment(loader=file_loader, autoescape=True)\n",
    "template = env.get_template(\"recipe_template.j2\")\n",
    "\n",
    "# Render the template with the recipe object\n",
    "output = template.render(recipe=recipee)\n",
    "\n",
    "# Save the rendered template to a file\n",
    "output_path = current_dir / \"../../.tmp/recipe_output.md\"\n",
    "output_path.parent.mkdir(parents=True, exist_ok=True)\n",
    "output_path.write_text(output)\n",
    "\n",
    "\n",
    "# Display the rendered template\n",
    "ipydisplay(Markdown(output))"
   ]
  }
 ],
 "metadata": {
  "kernelspec": {
   "display_name": ".venv",
   "language": "python",
   "name": "python3"
  },
  "language_info": {
   "codemirror_mode": {
    "name": "ipython",
    "version": 3
   },
   "file_extension": ".py",
   "mimetype": "text/x-python",
   "name": "python",
   "nbconvert_exporter": "python",
   "pygments_lexer": "ipython3",
   "version": "3.12.9"
  }
 },
 "nbformat": 4,
 "nbformat_minor": 2
}
