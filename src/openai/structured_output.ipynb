{
 "cells": [
  {
   "cell_type": "code",
   "execution_count": 1,
   "metadata": {},
   "outputs": [],
   "source": [
    "from pydantic import BaseModel, Field\n",
    "\n",
    "\n",
    "class Ingredient(BaseModel):\n",
    "    name: str = Field(..., description=\"The name of the ingredient.\")\n",
    "    amount: str = Field(..., description=\"The volume or weight of the ingredient (e.g., '200 grams', '1 liter').\")\n",
    "    unit: str = Field(..., description=\"The unit of measurement used in the metric system (e.g., grams, milliliters, cups).\")\n",
    "\n",
    "class CookingRecipe(BaseModel):\n",
    "    ingredients: list[Ingredient] = Field(..., description=\"List of ingredients for the recipe.\")\n",
    "    instructions: list[str] = Field(..., description=\"Step-by-step instructions for preparing the recipe.\")"
   ]
  },
  {
   "cell_type": "code",
   "execution_count": null,
   "metadata": {},
   "outputs": [],
   "source": [
    "from pydantic import BaseModel\n",
    "\n",
    "from openai import OpenAI\n",
    "\n",
    "client = OpenAI()\n",
    "\n",
    "completion = client.beta.chat.completions.parse(\n",
    "    model=\"gpt-4o-2024-08-06\",\n",
    "    messages=[\n",
    "        {\"role\": \"system\", \"content\": \"You are a 5 star cook providing guidance on cooking specialized recipees.\"},\n",
    "        {\"role\": \"user\", \"content\": \"I need a recipe for a chocolate cake.\"},\n",
    "    ],\n",
    "    response_format=CookingRecipe,\n",
    ")\n",
    "\n",
    "recipee = completion.choices[0].message.parsed\n",
    "\n",
    "print(recipee)"
   ]
  }
 ],
 "metadata": {
  "kernelspec": {
   "display_name": ".venv",
   "language": "python",
   "name": "python3"
  },
  "language_info": {
   "codemirror_mode": {
    "name": "ipython",
    "version": 3
   },
   "file_extension": ".py",
   "mimetype": "text/x-python",
   "name": "python",
   "nbconvert_exporter": "python",
   "pygments_lexer": "ipython3",
   "version": "3.12.9"
  }
 },
 "nbformat": 4,
 "nbformat_minor": 2
}
