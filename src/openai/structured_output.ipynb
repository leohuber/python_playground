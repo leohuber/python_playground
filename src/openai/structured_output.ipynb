{
 "cells": [
  {
   "cell_type": "code",
   "execution_count": 49,
   "metadata": {},
   "outputs": [],
   "source": [
    "from enum import Enum\n",
    "\n",
    "from pydantic import BaseModel, Field\n",
    "\n",
    "\n",
    "class RecipeTag(str, Enum):\n",
    "        DESSERT = \"Dessert\"\n",
    "        BREAKFAST = \"Breakfast\"\n",
    "        SOUP = \"Soup\"\n",
    "        SALAD = \"Salad\"\n",
    "        VEGETARIAN = \"Vegetarian\"\n",
    "        QUICK = \"Quick\"\n",
    "        EASY = \"Easy\"\n",
    "\n",
    "class Ingredient(BaseModel):\n",
    "    name: str = Field(..., description=\"The name of the ingredient.\")\n",
    "    amount: str = Field(..., description=\"The volume or weight of the ingredient (e.g., '200 grams', '1 liter').\")\n",
    "    unit: str = Field(..., description=\"The unit of measurement used in the metric system (e.g., grams, milliliters, cups).\")\n",
    "\n",
    "class CookingRecipe(BaseModel):\n",
    "    title: str = Field(..., description=\"The title of the recipe.\")\n",
    "    file_name: str = Field(..., description=\"The name of the markdown file in snake case and englisch in which the recipe is stored.\")\n",
    "    tags: list[RecipeTag] = Field(..., description=\"List of tags associated with the recipe.\")\n",
    "    servings: int = Field(..., description=\"The number of persons the recipe serves.\")\n",
    "    description: str = Field(..., description=\"A brief description of the recipe.\")\n",
    "    ingredients: list[Ingredient] = Field(..., description=\"List of ingredients for the recipe.\")\n",
    "    instructions: list[str] = Field(..., description=\"Step-by-step instructions for preparing the recipe.\")\n",
    "    notes: str = Field(None, description=\"Additional notes or tips for the recipe.\")"
   ]
  },
  {
   "cell_type": "code",
   "execution_count": 50,
   "metadata": {},
   "outputs": [
    {
     "name": "stdout",
     "output_type": "stream",
     "text": [
      "title='Schokoladenkuchen' file_name='schokoladenkuchen' tags=[<RecipeTag.DESSERT: 'Dessert'>, <RecipeTag.EASY: 'Easy'>] servings=8 description='Ein saftiger und einfacher Schokoladenkuchen, perfekt für jeden Anlass.' ingredients=[Ingredient(name='Mehl', amount='200', unit='g'), Ingredient(name='Zucker', amount='150', unit='g'), Ingredient(name='Backkakao', amount='50', unit='g'), Ingredient(name='Backpulver', amount='2', unit='TL'), Ingredient(name='Natron', amount='1', unit='TL'), Ingredient(name='Salz', amount='0.5', unit='TL'), Ingredient(name='Eier', amount='2', unit='Stück'), Ingredient(name='Milch', amount='240', unit='ml'), Ingredient(name='Pflanzenöl', amount='120', unit='ml'), Ingredient(name='Vanilleextrakt', amount='2', unit='TL'), Ingredient(name='kochendes Wasser', amount='240', unit='ml')] instructions=['Den Ofen auf 175 °C vorheizen. Eine 23 cm Springform einfetten oder mit Backpapier auslegen.', 'In einer großen Schüssel Mehl, Zucker, Kakao, Backpulver, Natron und Salz vermischen.', 'Eier, Milch, Öl und Vanilleextrakt hinzufügen und mit einem Mixer bei mittlerer Geschwindigkeit für etwa 2 Minuten gut verrühren.', 'Vorsichtig das kochende Wasser einrühren. Der Teig wird dünnflüssig sein.', 'Den Teig in die vorbereitete Form gießen.', 'Im vorgeheizten Ofen 30 bis 35 Minuten backen oder bis ein Zahnstocher sauber aus der Mitte herauskommt.', 'Den Kuchen in der Form etwa 10 Minuten abkühlen lassen, dann aus der Form nehmen und auf einem Kuchengitter vollständig auskühlen lassen.'] notes='Für einen extra schokoladigen Geschmack kann man eine Glasur aus geschmolzener Schokolade und Sahne zubereiten und über den ausgekühlten Kuchen gießen. Dieser Kuchen schmeckt auch hervorragend mit frischen Beeren.'\n"
     ]
    }
   ],
   "source": [
    "from pydantic import BaseModel\n",
    "\n",
    "from openai import OpenAI\n",
    "\n",
    "client = OpenAI()\n",
    "\n",
    "completion = client.beta.chat.completions.parse(\n",
    "    model=\"gpt-4o-2024-08-06\",\n",
    "    messages=[\n",
    "        {\"role\": \"system\", \"content\": \"You are a 5 star cook providing guidance on cooking specialized recipes.\"},\n",
    "        {\"role\": \"user\", \"content\": \"I need a recipe for a chocolate cake in german\"},\n",
    "    ],\n",
    "    response_format=CookingRecipe,\n",
    ")\n",
    "\n",
    "recipee = completion.choices[0].message.parsed\n",
    "\n",
    "print(recipee)"
   ]
  },
  {
   "cell_type": "code",
   "execution_count": 46,
   "metadata": {},
   "outputs": [
    {
     "data": {
      "text/markdown": [
       "# Schokoladenkuchen\n",
       "\n",
       "### Beschreibung\n",
       "\n",
       "Portionen: 8\n",
       "\n",
       "Ein saftiger und reichhaltiger Schokoladenkuchen, der perfekt für jeden Anlass ist.\n",
       "\n",
       "### Zutaten\n",
       "\n",
       "| Zutat | Menge | Einheit |\n",
       "|------------|----------|------|\n",
       "| Mehl | 200 | Gramm |\n",
       "| Backpulver | 1 | Teelöffel |\n",
       "| Kakaopulver | 50 | Gramm |\n",
       "| Zucker | 200 | Gramm |\n",
       "| Butter | 150 | Gramm |\n",
       "| Eier | 3 | Stück |\n",
       "| Vollmilch | 150 | Milliliter |\n",
       "| Vanillezucker | 1 | Päckchen |\n",
       "| Prise Salz | 1 | Prise |\n",
       "| Zartbitterschokolade | 100 | Gramm |\n",
       "\n",
       "\n",
       "## Anleitung\n",
       "\n",
       "\n",
       "* Den Ofen auf 180°C vorheizen und eine Springform einfetten.\n",
       "\n",
       "* In einer Schüssel Mehl, Backpulver, Kakaopulver und Salz mischen.\n",
       "\n",
       "* In einer anderen Schüssel Butter und Zucker cremig schlagen. Eier einzeln unterrühren.\n",
       "\n",
       "* Die Mehlmischung abwechselnd mit der Milch zur Buttermischung geben und gut vermengen.\n",
       "\n",
       "* Vanillezucker hinzufügen und weiterrühren, bis ein glatter Teig entsteht.\n",
       "\n",
       "* Die Zartbitterschokolade schmelzen und vorsichtig unter den Teig heben.\n",
       "\n",
       "* Den Teig in die vorbereitete Form geben und glatt streichen.\n",
       "\n",
       "* Den Kuchen im vorgeheizten Ofen etwa 45 Minuten backen, bis er durchgebacken ist.\n",
       "\n",
       "* Den Kuchen aus dem Ofen nehmen und in der Form auskühlen lassen, dann vorsichtig herausnehmen und komplett auskühlen lassen.\n",
       "\n",
       "\n",
       "### Anmerkungen\n",
       "\n",
       "Für eine noch reichere Erfahrung kann der Kuchen mit einer Schokoladenganache überzogen oder mit Puderzucker bestäubt werden. Ein Klecks Sahne oder eine Kugel Vanilleeis passen auch wunderbar dazu."
      ],
      "text/plain": [
       "<IPython.core.display.Markdown object>"
      ]
     },
     "metadata": {},
     "output_type": "display_data"
    }
   ],
   "source": [
    "from pathlib import Path\n",
    "\n",
    "from jinja2 import Environment, FileSystemLoader\n",
    "\n",
    "from IPython.display import Markdown\n",
    "from IPython.display import display as ipydisplay\n",
    "\n",
    "# Load the Jinja2 template\n",
    "current_dir = Path(__file__).parent if \"__file__\" in locals() else Path.cwd()\n",
    "template_file = current_dir / \"recipe_template.j2\"\n",
    "file_loader = FileSystemLoader(current_dir)\n",
    "env = Environment(loader=file_loader, autoescape=True)\n",
    "template = env.get_template(\"recipe_template.j2\")\n",
    "\n",
    "# Render the template with the recipe object\n",
    "output = template.render(recipe=recipee)\n",
    "\n",
    "# Save the rendered template to a file\n",
    "output_path = current_dir / \"../../.tmp/recipe_output.md\"\n",
    "output_path.parent.mkdir(parents=True, exist_ok=True)\n",
    "output_path.write_text(output)\n",
    "\n",
    "\n",
    "# Display the rendered template\n",
    "ipydisplay(Markdown(output))"
   ]
  }
 ],
 "metadata": {
  "kernelspec": {
   "display_name": ".venv",
   "language": "python",
   "name": "python3"
  },
  "language_info": {
   "codemirror_mode": {
    "name": "ipython",
    "version": 3
   },
   "file_extension": ".py",
   "mimetype": "text/x-python",
   "name": "python",
   "nbconvert_exporter": "python",
   "pygments_lexer": "ipython3",
   "version": "3.12.9"
  }
 },
 "nbformat": 4,
 "nbformat_minor": 2
}
