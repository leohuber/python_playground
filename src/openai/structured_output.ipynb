{
 "cells": [
  {
   "cell_type": "code",
   "execution_count": 44,
   "metadata": {},
   "outputs": [],
   "source": [
    "from pydantic import BaseModel, Field\n",
    "\n",
    "\n",
    "class Ingredient(BaseModel):\n",
    "    name: str = Field(..., description=\"The name of the ingredient.\")\n",
    "    amount: str = Field(..., description=\"The volume or weight of the ingredient (e.g., '200 grams', '1 liter').\")\n",
    "    unit: str = Field(..., description=\"The unit of measurement used in the metric system (e.g., grams, milliliters, cups).\")\n",
    "\n",
    "class CookingRecipe(BaseModel):\n",
    "    title: str = Field(..., description=\"The title of the recipe.\")\n",
    "    servings: int = Field(..., description=\"The number of persons the recipe serves.\")\n",
    "    description: str = Field(..., description=\"A brief description of the recipe.\")\n",
    "    ingredients: list[Ingredient] = Field(..., description=\"List of ingredients for the recipe.\")\n",
    "    instructions: list[str] = Field(..., description=\"Step-by-step instructions for preparing the recipe.\")\n",
    "    notes: str = Field(None, description=\"Additional notes or tips for the recipe.\")"
   ]
  },
  {
   "cell_type": "code",
   "execution_count": 45,
   "metadata": {},
   "outputs": [
    {
     "name": "stdout",
     "output_type": "stream",
     "text": [
      "title='Schokoladenkuchen' servings=8 description='Ein saftiger und reichhaltiger Schokoladenkuchen, der perfekt für jeden Anlass ist.' ingredients=[Ingredient(name='Mehl', amount='200', unit='Gramm'), Ingredient(name='Backpulver', amount='1', unit='Teelöffel'), Ingredient(name='Kakaopulver', amount='50', unit='Gramm'), Ingredient(name='Zucker', amount='200', unit='Gramm'), Ingredient(name='Butter', amount='150', unit='Gramm'), Ingredient(name='Eier', amount='3', unit='Stück'), Ingredient(name='Vollmilch', amount='150', unit='Milliliter'), Ingredient(name='Vanillezucker', amount='1', unit='Päckchen'), Ingredient(name='Prise Salz', amount='1', unit='Prise'), Ingredient(name='Zartbitterschokolade', amount='100', unit='Gramm')] instructions=['Den Ofen auf 180°C vorheizen und eine Springform einfetten.', 'In einer Schüssel Mehl, Backpulver, Kakaopulver und Salz mischen.', 'In einer anderen Schüssel Butter und Zucker cremig schlagen. Eier einzeln unterrühren.', 'Die Mehlmischung abwechselnd mit der Milch zur Buttermischung geben und gut vermengen.', 'Vanillezucker hinzufügen und weiterrühren, bis ein glatter Teig entsteht.', 'Die Zartbitterschokolade schmelzen und vorsichtig unter den Teig heben.', 'Den Teig in die vorbereitete Form geben und glatt streichen.', 'Den Kuchen im vorgeheizten Ofen etwa 45 Minuten backen, bis er durchgebacken ist.', 'Den Kuchen aus dem Ofen nehmen und in der Form auskühlen lassen, dann vorsichtig herausnehmen und komplett auskühlen lassen.'] notes='Für eine noch reichere Erfahrung kann der Kuchen mit einer Schokoladenganache überzogen oder mit Puderzucker bestäubt werden. Ein Klecks Sahne oder eine Kugel Vanilleeis passen auch wunderbar dazu.'\n"
     ]
    }
   ],
   "source": [
    "from pydantic import BaseModel\n",
    "\n",
    "from openai import OpenAI\n",
    "\n",
    "client = OpenAI()\n",
    "\n",
    "completion = client.beta.chat.completions.parse(\n",
    "    model=\"gpt-4o-2024-08-06\",\n",
    "    messages=[\n",
    "        {\"role\": \"system\", \"content\": \"You are a 5 star cook providing guidance on cooking specialized recipes.\"},\n",
    "        {\"role\": \"user\", \"content\": \"I need a recipe for a chocolate cake in german\"},\n",
    "    ],\n",
    "    response_format=CookingRecipe,\n",
    ")\n",
    "\n",
    "recipee = completion.choices[0].message.parsed\n",
    "\n",
    "print(recipee)"
   ]
  },
  {
   "cell_type": "code",
   "execution_count": 46,
   "metadata": {},
   "outputs": [
    {
     "data": {
      "text/markdown": [
       "# Schokoladenkuchen\n",
       "\n",
       "### Beschreibung\n",
       "\n",
       "Portionen: 8\n",
       "\n",
       "Ein saftiger und reichhaltiger Schokoladenkuchen, der perfekt für jeden Anlass ist.\n",
       "\n",
       "### Zutaten\n",
       "\n",
       "| Zutat | Menge | Einheit |\n",
       "|------------|----------|------|\n",
       "| Mehl | 200 | Gramm |\n",
       "| Backpulver | 1 | Teelöffel |\n",
       "| Kakaopulver | 50 | Gramm |\n",
       "| Zucker | 200 | Gramm |\n",
       "| Butter | 150 | Gramm |\n",
       "| Eier | 3 | Stück |\n",
       "| Vollmilch | 150 | Milliliter |\n",
       "| Vanillezucker | 1 | Päckchen |\n",
       "| Prise Salz | 1 | Prise |\n",
       "| Zartbitterschokolade | 100 | Gramm |\n",
       "\n",
       "\n",
       "## Anleitung\n",
       "\n",
       "\n",
       "* Den Ofen auf 180°C vorheizen und eine Springform einfetten.\n",
       "\n",
       "* In einer Schüssel Mehl, Backpulver, Kakaopulver und Salz mischen.\n",
       "\n",
       "* In einer anderen Schüssel Butter und Zucker cremig schlagen. Eier einzeln unterrühren.\n",
       "\n",
       "* Die Mehlmischung abwechselnd mit der Milch zur Buttermischung geben und gut vermengen.\n",
       "\n",
       "* Vanillezucker hinzufügen und weiterrühren, bis ein glatter Teig entsteht.\n",
       "\n",
       "* Die Zartbitterschokolade schmelzen und vorsichtig unter den Teig heben.\n",
       "\n",
       "* Den Teig in die vorbereitete Form geben und glatt streichen.\n",
       "\n",
       "* Den Kuchen im vorgeheizten Ofen etwa 45 Minuten backen, bis er durchgebacken ist.\n",
       "\n",
       "* Den Kuchen aus dem Ofen nehmen und in der Form auskühlen lassen, dann vorsichtig herausnehmen und komplett auskühlen lassen.\n",
       "\n",
       "\n",
       "### Anmerkungen\n",
       "\n",
       "Für eine noch reichere Erfahrung kann der Kuchen mit einer Schokoladenganache überzogen oder mit Puderzucker bestäubt werden. Ein Klecks Sahne oder eine Kugel Vanilleeis passen auch wunderbar dazu."
      ],
      "text/plain": [
       "<IPython.core.display.Markdown object>"
      ]
     },
     "metadata": {},
     "output_type": "display_data"
    }
   ],
   "source": [
    "from pathlib import Path\n",
    "\n",
    "from jinja2 import Environment, FileSystemLoader\n",
    "\n",
    "from IPython.display import Markdown\n",
    "from IPython.display import display as ipydisplay\n",
    "\n",
    "# Load the Jinja2 template\n",
    "current_dir = Path(__file__).parent if \"__file__\" in locals() else Path.cwd()\n",
    "template_file = current_dir / \"recipe_template.j2\"\n",
    "file_loader = FileSystemLoader(current_dir)\n",
    "env = Environment(loader=file_loader, autoescape=True)\n",
    "template = env.get_template(\"recipe_template.j2\")\n",
    "\n",
    "# Render the template with the recipe object\n",
    "output = template.render(recipe=recipee)\n",
    "\n",
    "# Save the rendered template to a file\n",
    "output_path = current_dir / \"../../.tmp/recipe_output.md\"\n",
    "output_path.parent.mkdir(parents=True, exist_ok=True)\n",
    "output_path.write_text(output)\n",
    "\n",
    "\n",
    "# Display the rendered template\n",
    "ipydisplay(Markdown(output))"
   ]
  }
 ],
 "metadata": {
  "kernelspec": {
   "display_name": ".venv",
   "language": "python",
   "name": "python3"
  },
  "language_info": {
   "codemirror_mode": {
    "name": "ipython",
    "version": 3
   },
   "file_extension": ".py",
   "mimetype": "text/x-python",
   "name": "python",
   "nbconvert_exporter": "python",
   "pygments_lexer": "ipython3",
   "version": "3.12.9"
  }
 },
 "nbformat": 4,
 "nbformat_minor": 2
}
