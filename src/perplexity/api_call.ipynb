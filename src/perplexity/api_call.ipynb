{
 "cells": [
  {
   "cell_type": "code",
   "execution_count": null,
   "id": "4fce76c7",
   "metadata": {},
   "outputs": [
    {
     "name": "stdout",
     "output_type": "stream",
     "text": [
      "{\"id\": \"852ee8b5-bed1-4e80-917f-f207e28a02c7\", \"model\": \"sonar\", \"created\": 1745831023, \"usage\": {\"prompt_tokens\": 14, \"completion_tokens\": 54, \"total_tokens\": 68, \"search_context_size\": \"low\"}, \"citations\": [\"https://www.esa.int/Science_Exploration/Space_Science/Herschel/How_many_stars_are_there_in_the_Universe\", \"https://en.wikipedia.org/wiki/Milky_Way\", \"https://www.space.com/25959-how-many-stars-are-in-the-milky-way.html\", \"https://asd.gsfc.nasa.gov/blueshift/index.php/2015/07/22/how-many-stars-in-the-milky-way/\", \"https://www.littlepassports.com/blog/space/how-many-stars-are-in-the-universe/\"], \"object\": \"chat.completion\", \"choices\": [{\"index\": 0, \"finish_reason\": \"stop\", \"message\": {\"role\": \"assistant\", \"content\": \"The **Milky Way galaxy** is estimated to contain between **100 billion and 400 billion stars**. This range varies due to the difficulty in counting very-low-mass stars, which are hard to detect at great distances from Earth[2][3][4].\"}, \"delta\": {\"role\": \"assistant\", \"content\": \"\"}}]}\n"
     ]
    }
   ],
   "source": [
    "import requests\n",
    "from pydantic import BaseModel\n",
    "\n",
    "\n",
    "class AnswerFormat(BaseModel):\n",
    "    first_name: str\n",
    "    last_name: str\n",
    "    year_of_birth: int\n",
    "    num_seasons_in_nba: int\n",
    "\n",
    "url = \"https://api.perplexity.ai/chat/completions\"\n",
    "headers = {\"Authorization\": \"Bearer YOUR_API_KEY\"}\n",
    "payload = {\n",
    "    \"model\": \"sonar\",\n",
    "    \"messages\": [\n",
    "        {\"role\": \"system\", \"content\": \"Be precise and concise.\"},\n",
    "        {\"role\": \"user\", \"content\": (\n",
    "            \"Tell me about Michael Jordan. \"\n",
    "            \"Please output a JSON object containing the following fields: \"\n",
    "            \"first_name, last_name, year_of_birth, num_seasons_in_nba. \"\n",
    "        )},\n",
    "    ],\n",
    "    \"response_format\": {\n",
    "\t\t    \"type\": \"json_schema\",\n",
    "        \"json_schema\": {\"schema\": AnswerFormat.model_json_schema()},\n",
    "    },\n",
    "}\n",
    "response = requests.post(url, headers=headers, json=payload).json()\n",
    "print(response[\"choices\"][0][\"message\"][\"content\"])"
   ]
  }
 ],
 "metadata": {
  "kernelspec": {
   "display_name": ".venv",
   "language": "python",
   "name": "python3"
  },
  "language_info": {
   "codemirror_mode": {
    "name": "ipython",
    "version": 3
   },
   "file_extension": ".py",
   "mimetype": "text/x-python",
   "name": "python",
   "nbconvert_exporter": "python",
   "pygments_lexer": "ipython3",
   "version": "3.12.9"
  }
 },
 "nbformat": 4,
 "nbformat_minor": 5
}
