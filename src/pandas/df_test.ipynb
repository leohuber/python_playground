{
 "cells": [
  {
   "cell_type": "code",
   "execution_count": 2,
   "id": "2dffe268",
   "metadata": {},
   "outputs": [],
   "source": [
    "from pathlib import Path\n",
    "\n",
    "import pandas as pd\n",
    "from pandas import DataFrame\n",
    "\n",
    "\n",
    "def list_csv_files(data_path: Path) -> list[Path]:\n",
    "    if data_path is None or not data_path.is_dir():\n",
    "        return []\n",
    "    csv_dir = data_path / \"csv_import\"\n",
    "    csv_dir.mkdir(parents=True, exist_ok=True)\n",
    "    return list(csv_dir.rglob(\"*.csv\"))\n",
    "\n",
    "\n",
    "def load_dataframe(csv_path: Path) -> DataFrame:\n",
    "    with csv_path.open() as file:\n",
    "        return pd.read_csv(file, skiprows=9, delimiter=\";\")\n",
    "\n",
    "csv_path = Path(\"/Users/leo/Library/Mobile Documents/com~apple~CloudDocs/CashFlow/csv_import/CH880027527581252040L/2025/CH880027527581252040L_202502.csv\")\n",
    "df = load_dataframe(csv_path)\n",
    "\n"
   ]
  },
  {
   "cell_type": "code",
   "execution_count": null,
   "id": "a72d916e",
   "metadata": {},
   "outputs": [],
   "source": []
  }
 ],
 "metadata": {
  "kernelspec": {
   "display_name": ".venv",
   "language": "python",
   "name": "python3"
  },
  "language_info": {
   "codemirror_mode": {
    "name": "ipython",
    "version": 3
   },
   "file_extension": ".py",
   "mimetype": "text/x-python",
   "name": "python",
   "nbconvert_exporter": "python",
   "pygments_lexer": "ipython3",
   "version": "3.12.9"
  }
 },
 "nbformat": 4,
 "nbformat_minor": 5
}
