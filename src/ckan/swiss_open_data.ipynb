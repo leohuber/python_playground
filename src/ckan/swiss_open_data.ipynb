{
 "cells": [
  {
   "cell_type": "markdown",
   "metadata": {},
   "source": [
    "# Swiss Open Data\n",
    "\n",
    "[Swiss Open Data API Endpoint](https://ckan.opendata.swiss)"
   ]
  },
  {
   "cell_type": "code",
   "execution_count": 1,
   "metadata": {},
   "outputs": [],
   "source": [
    "from ckanlib import Config as CkanConfig\n",
    "from ckanlib import get_organisations\n",
    "from ckanlib import get_groups\n",
    "from ckanlib import get_tags\n",
    "from ckanlib import get_organization_details\n",
    "from ckanlib import package_search\n",
    "\n",
    "config = CkanConfig('https://ckan.opendata.swiss')\n",
    "orgs = get_organisations(config, \"zuerich\")\n",
    "groups = get_groups(config)\n",
    "tags = get_tags(config, \"zuerich\")\n",
    "org_details = get_organization_details(config, \"kanton-zuerich\")\n",
    "packages = package_search(config)\n",
    "\n"
   ]
  }
 ],
 "metadata": {
  "kernelspec": {
   "display_name": ".venv",
   "language": "python",
   "name": "python3"
  },
  "language_info": {
   "codemirror_mode": {
    "name": "ipython",
    "version": 3
   },
   "file_extension": ".py",
   "mimetype": "text/x-python",
   "name": "python",
   "nbconvert_exporter": "python",
   "pygments_lexer": "ipython3",
   "version": "3.12.9"
  }
 },
 "nbformat": 4,
 "nbformat_minor": 2
}
