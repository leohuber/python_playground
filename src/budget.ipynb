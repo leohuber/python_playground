{
 "cells": [
  {
   "cell_type": "code",
   "execution_count": 11,
   "metadata": {},
   "outputs": [],
   "source": [
    "from pathlib import Path\n",
    "\n",
    "import pandas as pd\n",
    "import pygwalker as pyg\n",
    "from pandas import DataFrame\n",
    "\n",
    "csv_files = list(Path(\"../.tmp/btransactions\").glob(\"*.csv\"))\n",
    "df_list = [pd.read_csv(file, skiprows=9, delimiter=\";\") for file in csv_files]\n",
    "transactions = pd.concat(df_list, ignore_index=True)"
   ]
  },
  {
   "cell_type": "code",
   "execution_count": 12,
   "metadata": {},
   "outputs": [],
   "source": [
    "def clean_data(transactions: DataFrame) -> DataFrame:\n",
    "    # Remove columns with no values\n",
    "    transactions = transactions.dropna(axis=1, how=\"all\")\n",
    "    # Remove column Abschlusszeit\n",
    "    transactions = transactions.drop(columns=[\"Abschlusszeit\"])\n",
    "    # Create Buchungsmonat column from Valutadatum month\n",
    "    transactions[\"Buchungsmonat\"] = pd.to_datetime(transactions[\"Buchungsdatum\"]).dt.month\n",
    "    # Create Buchungsjahr column from Buchungsdatum year\n",
    "    transactions[\"Buchungsjahr\"] = pd.to_datetime(transactions[\"Buchungsdatum\"]).dt.year\n",
    "    # Create Week column from Buchungsdatum week\n",
    "    transactions[\"Buchungswoche\"] = pd.to_datetime(transactions[\"Buchungsdatum\"]).dt.isocalendar().week\n",
    "    # Move columns\n",
    "    cols = transactions.columns.tolist()\n",
    "    valutadatum_index = cols.index(\"Valutadatum\")\n",
    "    cols.insert(valutadatum_index + 1, cols.pop(cols.index(\"Buchungsjahr\")))\n",
    "    cols.insert(valutadatum_index + 2, cols.pop(cols.index(\"Buchungsmonat\")))\n",
    "    cols.insert(valutadatum_index + 3, cols.pop(cols.index(\"Buchungswoche\")))\n",
    "    # Sort by column: \"Buchungsdatum\" (ascending)\n",
    "    transactions = transactions.sort_values([\"Buchungsdatum\"])\n",
    "    return transactions[cols]\n",
    "\n",
    "transactions_clean = clean_data(transactions.copy())\n",
    "\n",
    "transactions_clean.to_excel(\"../.tmp/transactions_clean.xlsx\", index=False)\n",
    "\n"
   ]
  },
  {
   "cell_type": "code",
   "execution_count": 8,
   "metadata": {},
   "outputs": [
    {
     "data": {
      "application/vnd.jupyter.widget-view+json": {
       "model_id": "3c00c4b8fbfb4571bda60468b1e1cf5e",
       "version_major": 2,
       "version_minor": 0
      },
      "text/plain": [
       "Box(children=(HTML(value='\\n<div id=\"ifr-pyg-000630d6a85ff679aNIJjxkwFXGBVAiR\" style=\"height: auto\">\\n    <hea…"
      ]
     },
     "metadata": {},
     "output_type": "display_data"
    },
    {
     "data": {
      "text/html": [
       "<script>\n",
       "    window.addEventListener(\"message\", function(event) {\n",
       "        const backgroundMap = {\n",
       "            \"dark\": \"hsl(240 10% 3.9%)\",\n",
       "            \"light\": \"hsl(0 0 100%)\",\n",
       "        };\n",
       "        const colorMap = {\n",
       "            \"dark\": \"hsl(0 0% 98%)\",\n",
       "            \"light\": \"hsl(240 10% 3.9%)\",\n",
       "        };\n",
       "        if (event.data.action === \"changeAppearance\" && event.data.gid === \"000630d6a85ff679aNIJjxkwFXGBVAiR\") {\n",
       "            var iframe = document.getElementById(\"gwalker-000630d6a85ff679aNIJjxkwFXGBVAiR\");\n",
       "            iframe.style.background  = backgroundMap[event.data.appearance];\n",
       "            iframe.style.color = colorMap[event.data.appearance];\n",
       "        }\n",
       "    });\n",
       "</script>"
      ],
      "text/plain": [
       "<IPython.core.display.HTML object>"
      ]
     },
     "metadata": {},
     "output_type": "display_data"
    },
    {
     "data": {
      "text/html": [],
      "text/plain": [
       "<IPython.core.display.HTML object>"
      ]
     },
     "metadata": {},
     "output_type": "display_data"
    }
   ],
   "source": [
    "walker = pyg.walk(transactions_clean)"
   ]
  }
 ],
 "metadata": {
  "kernelspec": {
   "display_name": ".venv",
   "language": "python",
   "name": "python3"
  },
  "language_info": {
   "codemirror_mode": {
    "name": "ipython",
    "version": 3
   },
   "file_extension": ".py",
   "mimetype": "text/x-python",
   "name": "python",
   "nbconvert_exporter": "python",
   "pygments_lexer": "ipython3",
   "version": "3.12.9"
  }
 },
 "nbformat": 4,
 "nbformat_minor": 2
}
