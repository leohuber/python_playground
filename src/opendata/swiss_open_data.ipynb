{
 "cells": [
  {
   "cell_type": "markdown",
   "metadata": {},
   "source": [
    "# Swiss Open Data\n",
    "\n",
    "[Swiss Open Data API Endpoint](https://ckan.opendata.swiss)\n",
    "\n",
    "[CKAN API Documentation](https://docs.ckan.org/en/2.9/api/#module-ckan.logic.action.get)\n",
    "\n",
    "[Pandas Documentation](https://pandas.pydata.org/pandas-docs/stable/)"
   ]
  },
  {
   "cell_type": "code",
   "execution_count": null,
   "metadata": {},
   "outputs": [],
   "source": [
    "from ckanlib import Config as CkanConfig\n",
    "from ckanlib import get_organisations\n",
    "from ckanlib import get_groups\n",
    "from ckanlib import get_tags\n",
    "from ckanlib import get_organization_details\n",
    "from ckanlib import package_search\n",
    "from ckanlib import get_package_details\n",
    "import pandas as pd # type: ignore\n",
    "\n",
    "config = CkanConfig('https://ckan.opendata.swiss')\n",
    "orgs = get_organisations(config, \"zuerich\")\n",
    "groups = get_groups(config)\n",
    "tags = get_tags(config, \"zuerich\")\n",
    "org_details = get_organization_details(config, \"kanton-zuerich\")\n",
    "packages = package_search(config, search_string=\"bevölkerung\", filter_criterias=[\"res_format:CSV\",\"keywords_en:father\",\"keywords_en:population\"])\n",
    "package = get_package_details(config, \"bevolkerung2\")\n",
    "\n",
    "# Get the URL of the CSV file\n",
    "csv_url = package['resources'][0]['url']\n",
    "\n",
    "# Download the CSV file from the provided URL\n",
    "csv_url = \"https://dam-api.bfs.admin.ch/hub/api/dam/assets/32229366/master\"\n",
    "df = pd.read_csv(csv_url)\n",
    "\n",
    "def clean_data(df):\n",
    "    # Sort by column: 'YEAR' (ascending)\n",
    "    df = df.sort_values(['YEAR'])\n",
    "    # Filter rows based on columns: 'SEX', 'CITIZENSHIP_CATEGORY'\n",
    "    df = df[(df['SEX'] == \"T\") & (df['CITIZENSHIP_CATEGORY'] == \"T\")]\n",
    "    return df\n",
    "\n",
    "df_clean = clean_data(df.copy())\n"
   ]
  }
 ],
 "metadata": {
  "kernelspec": {
   "display_name": ".venv",
   "language": "python",
   "name": "python3"
  },
  "language_info": {
   "codemirror_mode": {
    "name": "ipython",
    "version": 3
   },
   "file_extension": ".py",
   "mimetype": "text/x-python",
   "name": "python",
   "nbconvert_exporter": "python",
   "pygments_lexer": "ipython3",
   "version": "3.12.9"
  }
 },
 "nbformat": 4,
 "nbformat_minor": 2
}
