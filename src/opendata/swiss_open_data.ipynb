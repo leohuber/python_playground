{
 "cells": [
  {
   "cell_type": "markdown",
   "metadata": {},
   "source": [
    "# Swiss Open Data\n",
    "\n",
    "[Swiss Open Data API Endpoint](https://ckan.opendata.swiss)\n",
    "\n",
    "[CKAN API Documentation](https://docs.ckan.org/en/2.9/api/#module-ckan.logic.action.get)"
   ]
  },
  {
   "cell_type": "code",
   "execution_count": null,
   "metadata": {},
   "outputs": [],
   "source": [
    "from ckanlib import Config as CkanConfig\n",
    "from ckanlib import get_organisations\n",
    "from ckanlib import get_groups\n",
    "from ckanlib import get_tags\n",
    "from ckanlib import get_organization_details\n",
    "from ckanlib import package_search\n",
    "from ckanlib import get_package_details\n",
    "\n",
    "config = CkanConfig('https://ckan.opendata.swiss')\n",
    "orgs = get_organisations(config, \"zuerich\")\n",
    "groups = get_groups(config)\n",
    "tags = get_tags(config, \"zuerich\")\n",
    "org_details = get_organization_details(config, \"kanton-zuerich\")\n",
    "packages = package_search(config, search_string=\"bevölkerung\", filter_criterias=[\"res_format:CSV\",\"keywords_en:father\",\"keywords_en:population\"])\n",
    "package = get_package_details(config, \"bevolkerung2\")\n",
    "\n",
    "\n"
   ]
  }
 ],
 "metadata": {
  "kernelspec": {
   "display_name": ".venv",
   "language": "python",
   "name": "python3"
  },
  "language_info": {
   "codemirror_mode": {
    "name": "ipython",
    "version": 3
   },
   "file_extension": ".py",
   "mimetype": "text/x-python",
   "name": "python",
   "nbconvert_exporter": "python",
   "pygments_lexer": "ipython3",
   "version": "3.12.9"
  }
 },
 "nbformat": 4,
 "nbformat_minor": 2
}
