{
 "cells": [
  {
   "cell_type": "markdown",
   "metadata": {},
   "source": [
    "# Swiss Open Data\n",
    "\n",
    "[Swiss Open Data API Endpoint](https://ckan.opendata.swiss)\n",
    "\n",
    "[CKAN API Documentation](https://docs.ckan.org/en/2.9/api/#module-ckan.logic.action.get)"
   ]
  },
  {
   "cell_type": "code",
   "execution_count": null,
   "metadata": {},
   "outputs": [
    {
     "name": "stdout",
     "output_type": "stream",
     "text": [
      "  GEO_NR          GEO_NAME CLASS_HAB GEOM_PERIOD     VARIABLE         SOURCE  \\\n",
      "0     CH  Schweiz / Suisse     Total  2023-01-01      pop2022        STATPOP   \n",
      "1     CH  Schweiz / Suisse     Total  2023-01-01      pop2011        STATPOP   \n",
      "2     CH  Schweiz / Suisse     Total  2023-01-01    vpop_1122        STATPOP   \n",
      "3     CH  Schweiz / Suisse     Total  2023-01-01  dens_pop_22  AREA, STATPOP   \n",
      "4     CH  Schweiz / Suisse     Total  2023-01-01      pop2000             VZ   \n",
      "\n",
      "  VALUE_PERIOD UNIT_VALUE      VALUE STATUS  \n",
      "0         2022        Num  8815385.0      A  \n",
      "1         2011        Num  8039060.0      A  \n",
      "2    2011/2022        Per        9.7      A  \n",
      "3         2022        Num        2.0      A  \n",
      "4         2000        Num  7288010.0      A  \n"
     ]
    }
   ],
   "source": [
    "from ckanlib import Config as CkanConfig\n",
    "from ckanlib import get_organisations\n",
    "from ckanlib import get_groups\n",
    "from ckanlib import get_tags\n",
    "from ckanlib import get_organization_details\n",
    "from ckanlib import package_search\n",
    "from ckanlib import get_package_details\n",
    "import pandas as pd\n",
    "\n",
    "config = CkanConfig('https://ckan.opendata.swiss')\n",
    "orgs = get_organisations(config, \"zuerich\")\n",
    "groups = get_groups(config)\n",
    "tags = get_tags(config, \"zuerich\")\n",
    "org_details = get_organization_details(config, \"kanton-zuerich\")\n",
    "packages = package_search(config, search_string=\"bevölkerung\", filter_criterias=[\"res_format:CSV\",\"keywords_en:father\",\"keywords_en:population\"])\n",
    "package = get_package_details(config, \"bevolkerung2\")\n",
    "\n",
    "# Get the URL of the CSV file\n",
    "csv_url = package['resources'][0]['url']\n",
    "\n",
    "# Download the CSV file from the provided URL\n",
    "csv_url = \"https://dam-api.bfs.admin.ch/hub/api/dam/assets/32229366/master\"\n",
    "df = pd.read_csv(csv_url)\n",
    "\n"
   ]
  }
 ],
 "metadata": {
  "kernelspec": {
   "display_name": ".venv",
   "language": "python",
   "name": "python3"
  },
  "language_info": {
   "codemirror_mode": {
    "name": "ipython",
    "version": 3
   },
   "file_extension": ".py",
   "mimetype": "text/x-python",
   "name": "python",
   "nbconvert_exporter": "python",
   "pygments_lexer": "ipython3",
   "version": "3.12.9"
  }
 },
 "nbformat": 4,
 "nbformat_minor": 2
}
