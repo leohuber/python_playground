{
 "cells": [
  {
   "cell_type": "code",
   "execution_count": null,
   "metadata": {},
   "outputs": [],
   "source": [
    "msg = \"Hello World\"\n",
    "print(msg) #noqa:T201\n",
    "nested_dict = {\n",
    "    \"key1\": {\n",
    "        \"subkey1\": \"value1\",\n",
    "        \"subkey2\": \"value2\",\n",
    "    },\n",
    "    \"key2\": {\n",
    "        \"subkey3\": \"value3\",\n",
    "        \"subkey4\": \"value4\",\n",
    "    },\n",
    "}\n",
    "print(nested_dict) #noqa:T201"
   ]
  },
  {
   "cell_type": "code",
   "execution_count": null,
   "metadata": {},
   "outputs": [],
   "source": [
    "msg = \"Hello again\"\n",
    "print(msg) #noqa:T201"
   ]
  }
 ],
 "metadata": {
  "kernelspec": {
   "display_name": ".venv",
   "language": "python",
   "name": "python3"
  },
  "language_info": {
   "codemirror_mode": {
    "name": "ipython",
    "version": 3
   },
   "file_extension": ".py",
   "mimetype": "text/x-python",
   "name": "python",
   "nbconvert_exporter": "python",
   "pygments_lexer": "ipython3",
   "version": "3.12.9"
  }
 },
 "nbformat": 4,
 "nbformat_minor": 2
}
