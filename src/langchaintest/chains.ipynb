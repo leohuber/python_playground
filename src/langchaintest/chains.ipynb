{
 "cells": [
  {
   "cell_type": "markdown",
   "metadata": {},
   "source": [
    "## Chains (LCEL)\n",
    "\n",
    "LCEL = Langchain Expression Language"
   ]
  }
 ],
 "metadata": {
  "language_info": {
   "name": "python"
  }
 },
 "nbformat": 4,
 "nbformat_minor": 2
}
